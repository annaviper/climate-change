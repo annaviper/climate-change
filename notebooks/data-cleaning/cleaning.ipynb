{
 "cells": [
  {
   "cell_type": "markdown",
   "metadata": {
    "toc": true
   },
   "source": [
    "<h1>Table of Contents<span class=\"tocSkip\"></span></h1>\n",
    "<div class=\"toc\"><ul class=\"toc-item\"><li><span><a href=\"#Loading-data\" data-toc-modified-id=\"Loading-data-1\"><span class=\"toc-item-num\">1&nbsp;&nbsp;</span>Loading data</a></span></li><li><span><a href=\"#Columns\" data-toc-modified-id=\"Columns-2\"><span class=\"toc-item-num\">2&nbsp;&nbsp;</span>Columns</a></span></li><li><span><a href=\"#NaNs\" data-toc-modified-id=\"NaNs-3\"><span class=\"toc-item-num\">3&nbsp;&nbsp;</span>NaNs</a></span><ul class=\"toc-item\"><li><span><a href=\"#Types\" data-toc-modified-id=\"Types-3.1\"><span class=\"toc-item-num\">3.1&nbsp;&nbsp;</span>Types</a></span></li><li><span><a href=\"#Numerical-data\" data-toc-modified-id=\"Numerical-data-3.2\"><span class=\"toc-item-num\">3.2&nbsp;&nbsp;</span>Numerical data</a></span><ul class=\"toc-item\"><li><span><a href=\"#Outliers\" data-toc-modified-id=\"Outliers-3.2.1\"><span class=\"toc-item-num\">3.2.1&nbsp;&nbsp;</span>Outliers</a></span></li></ul></li></ul></li><li><span><a href=\"#Save\" data-toc-modified-id=\"Save-4\"><span class=\"toc-item-num\">4&nbsp;&nbsp;</span>Save</a></span></li></ul></div>"
   ]
  },
  {
   "cell_type": "code",
   "execution_count": 121,
   "metadata": {},
   "outputs": [
    {
     "data": {
      "text/html": [
       "<style>.container { width:90% !important; }</style>"
      ],
      "text/plain": [
       "<IPython.core.display.HTML object>"
      ]
     },
     "metadata": {},
     "output_type": "display_data"
    }
   ],
   "source": [
    "# Standard libraries\n",
    "import pandas as pd\n",
    "import numpy as np\n",
    "import math\n",
    "\n",
    "# Visualisation\n",
    "import matplotlib.pyplot as plt\n",
    "import seaborn as sns\n",
    "%matplotlib inline\n",
    "\n",
    "# Notebook\n",
    "pd.set_option('display.max_rows', None)\n",
    "pd.set_option('display.max_columns', None)\n",
    "from IPython.core.display import display, HTML\n",
    "display(HTML(\"<style>.container { width:90% !important; }</style>\"))"
   ]
  },
  {
   "cell_type": "markdown",
   "metadata": {},
   "source": [
    "# Loading data"
   ]
  },
  {
   "cell_type": "code",
   "execution_count": 122,
   "metadata": {},
   "outputs": [
    {
     "data": {
      "text/html": [
       "<div>\n",
       "<style scoped>\n",
       "    .dataframe tbody tr th:only-of-type {\n",
       "        vertical-align: middle;\n",
       "    }\n",
       "\n",
       "    .dataframe tbody tr th {\n",
       "        vertical-align: top;\n",
       "    }\n",
       "\n",
       "    .dataframe thead th {\n",
       "        text-align: right;\n",
       "    }\n",
       "</style>\n",
       "<table border=\"1\" class=\"dataframe\">\n",
       "  <thead>\n",
       "    <tr style=\"text-align: right;\">\n",
       "      <th></th>\n",
       "      <th>dt</th>\n",
       "      <th>LandAverageTemperature</th>\n",
       "      <th>LandAverageTemperatureUncertainty</th>\n",
       "      <th>LandMaxTemperature</th>\n",
       "      <th>LandMaxTemperatureUncertainty</th>\n",
       "      <th>LandMinTemperature</th>\n",
       "      <th>LandMinTemperatureUncertainty</th>\n",
       "      <th>LandAndOceanAverageTemperature</th>\n",
       "      <th>LandAndOceanAverageTemperatureUncertainty</th>\n",
       "    </tr>\n",
       "  </thead>\n",
       "  <tbody>\n",
       "    <tr>\n",
       "      <th>0</th>\n",
       "      <td>1750-01-01</td>\n",
       "      <td>3.034</td>\n",
       "      <td>3.574</td>\n",
       "      <td>NaN</td>\n",
       "      <td>NaN</td>\n",
       "      <td>NaN</td>\n",
       "      <td>NaN</td>\n",
       "      <td>NaN</td>\n",
       "      <td>NaN</td>\n",
       "    </tr>\n",
       "    <tr>\n",
       "      <th>1</th>\n",
       "      <td>1750-02-01</td>\n",
       "      <td>3.083</td>\n",
       "      <td>3.702</td>\n",
       "      <td>NaN</td>\n",
       "      <td>NaN</td>\n",
       "      <td>NaN</td>\n",
       "      <td>NaN</td>\n",
       "      <td>NaN</td>\n",
       "      <td>NaN</td>\n",
       "    </tr>\n",
       "    <tr>\n",
       "      <th>2</th>\n",
       "      <td>1750-03-01</td>\n",
       "      <td>5.626</td>\n",
       "      <td>3.076</td>\n",
       "      <td>NaN</td>\n",
       "      <td>NaN</td>\n",
       "      <td>NaN</td>\n",
       "      <td>NaN</td>\n",
       "      <td>NaN</td>\n",
       "      <td>NaN</td>\n",
       "    </tr>\n",
       "    <tr>\n",
       "      <th>3</th>\n",
       "      <td>1750-04-01</td>\n",
       "      <td>8.490</td>\n",
       "      <td>2.451</td>\n",
       "      <td>NaN</td>\n",
       "      <td>NaN</td>\n",
       "      <td>NaN</td>\n",
       "      <td>NaN</td>\n",
       "      <td>NaN</td>\n",
       "      <td>NaN</td>\n",
       "    </tr>\n",
       "    <tr>\n",
       "      <th>4</th>\n",
       "      <td>1750-05-01</td>\n",
       "      <td>11.573</td>\n",
       "      <td>2.072</td>\n",
       "      <td>NaN</td>\n",
       "      <td>NaN</td>\n",
       "      <td>NaN</td>\n",
       "      <td>NaN</td>\n",
       "      <td>NaN</td>\n",
       "      <td>NaN</td>\n",
       "    </tr>\n",
       "  </tbody>\n",
       "</table>\n",
       "</div>"
      ],
      "text/plain": [
       "           dt  LandAverageTemperature  LandAverageTemperatureUncertainty  \\\n",
       "0  1750-01-01                   3.034                              3.574   \n",
       "1  1750-02-01                   3.083                              3.702   \n",
       "2  1750-03-01                   5.626                              3.076   \n",
       "3  1750-04-01                   8.490                              2.451   \n",
       "4  1750-05-01                  11.573                              2.072   \n",
       "\n",
       "   LandMaxTemperature  LandMaxTemperatureUncertainty  LandMinTemperature  \\\n",
       "0                 NaN                            NaN                 NaN   \n",
       "1                 NaN                            NaN                 NaN   \n",
       "2                 NaN                            NaN                 NaN   \n",
       "3                 NaN                            NaN                 NaN   \n",
       "4                 NaN                            NaN                 NaN   \n",
       "\n",
       "   LandMinTemperatureUncertainty  LandAndOceanAverageTemperature  \\\n",
       "0                            NaN                             NaN   \n",
       "1                            NaN                             NaN   \n",
       "2                            NaN                             NaN   \n",
       "3                            NaN                             NaN   \n",
       "4                            NaN                             NaN   \n",
       "\n",
       "   LandAndOceanAverageTemperatureUncertainty  \n",
       "0                                        NaN  \n",
       "1                                        NaN  \n",
       "2                                        NaN  \n",
       "3                                        NaN  \n",
       "4                                        NaN  "
      ]
     },
     "execution_count": 122,
     "metadata": {},
     "output_type": "execute_result"
    }
   ],
   "source": [
    "df = pd.read_csv('../../data/raw/temperature/GlobalTemperatures.csv')\n",
    "df.head()"
   ]
  },
  {
   "cell_type": "code",
   "execution_count": 123,
   "metadata": {},
   "outputs": [
    {
     "data": {
      "text/html": [
       "<div>\n",
       "<style scoped>\n",
       "    .dataframe tbody tr th:only-of-type {\n",
       "        vertical-align: middle;\n",
       "    }\n",
       "\n",
       "    .dataframe tbody tr th {\n",
       "        vertical-align: top;\n",
       "    }\n",
       "\n",
       "    .dataframe thead th {\n",
       "        text-align: right;\n",
       "    }\n",
       "</style>\n",
       "<table border=\"1\" class=\"dataframe\">\n",
       "  <thead>\n",
       "    <tr style=\"text-align: right;\">\n",
       "      <th></th>\n",
       "      <th>dt</th>\n",
       "      <th>LandAverageTemperature</th>\n",
       "      <th>LandAverageTemperatureUncertainty</th>\n",
       "      <th>LandMaxTemperature</th>\n",
       "      <th>LandMaxTemperatureUncertainty</th>\n",
       "      <th>LandMinTemperature</th>\n",
       "      <th>LandMinTemperatureUncertainty</th>\n",
       "      <th>LandAndOceanAverageTemperature</th>\n",
       "      <th>LandAndOceanAverageTemperatureUncertainty</th>\n",
       "    </tr>\n",
       "  </thead>\n",
       "  <tbody>\n",
       "    <tr>\n",
       "      <th>3187</th>\n",
       "      <td>2015-08-01</td>\n",
       "      <td>14.755</td>\n",
       "      <td>0.072</td>\n",
       "      <td>20.699</td>\n",
       "      <td>0.110</td>\n",
       "      <td>9.005</td>\n",
       "      <td>0.170</td>\n",
       "      <td>17.589</td>\n",
       "      <td>0.057</td>\n",
       "    </tr>\n",
       "    <tr>\n",
       "      <th>3188</th>\n",
       "      <td>2015-09-01</td>\n",
       "      <td>12.999</td>\n",
       "      <td>0.079</td>\n",
       "      <td>18.845</td>\n",
       "      <td>0.088</td>\n",
       "      <td>7.199</td>\n",
       "      <td>0.229</td>\n",
       "      <td>17.049</td>\n",
       "      <td>0.058</td>\n",
       "    </tr>\n",
       "    <tr>\n",
       "      <th>3189</th>\n",
       "      <td>2015-10-01</td>\n",
       "      <td>10.801</td>\n",
       "      <td>0.102</td>\n",
       "      <td>16.450</td>\n",
       "      <td>0.059</td>\n",
       "      <td>5.232</td>\n",
       "      <td>0.115</td>\n",
       "      <td>16.290</td>\n",
       "      <td>0.062</td>\n",
       "    </tr>\n",
       "    <tr>\n",
       "      <th>3190</th>\n",
       "      <td>2015-11-01</td>\n",
       "      <td>7.433</td>\n",
       "      <td>0.119</td>\n",
       "      <td>12.892</td>\n",
       "      <td>0.093</td>\n",
       "      <td>2.157</td>\n",
       "      <td>0.106</td>\n",
       "      <td>15.252</td>\n",
       "      <td>0.063</td>\n",
       "    </tr>\n",
       "    <tr>\n",
       "      <th>3191</th>\n",
       "      <td>2015-12-01</td>\n",
       "      <td>5.518</td>\n",
       "      <td>0.100</td>\n",
       "      <td>10.725</td>\n",
       "      <td>0.154</td>\n",
       "      <td>0.287</td>\n",
       "      <td>0.099</td>\n",
       "      <td>14.774</td>\n",
       "      <td>0.062</td>\n",
       "    </tr>\n",
       "  </tbody>\n",
       "</table>\n",
       "</div>"
      ],
      "text/plain": [
       "              dt  LandAverageTemperature  LandAverageTemperatureUncertainty  \\\n",
       "3187  2015-08-01                  14.755                              0.072   \n",
       "3188  2015-09-01                  12.999                              0.079   \n",
       "3189  2015-10-01                  10.801                              0.102   \n",
       "3190  2015-11-01                   7.433                              0.119   \n",
       "3191  2015-12-01                   5.518                              0.100   \n",
       "\n",
       "      LandMaxTemperature  LandMaxTemperatureUncertainty  LandMinTemperature  \\\n",
       "3187              20.699                          0.110               9.005   \n",
       "3188              18.845                          0.088               7.199   \n",
       "3189              16.450                          0.059               5.232   \n",
       "3190              12.892                          0.093               2.157   \n",
       "3191              10.725                          0.154               0.287   \n",
       "\n",
       "      LandMinTemperatureUncertainty  LandAndOceanAverageTemperature  \\\n",
       "3187                          0.170                          17.589   \n",
       "3188                          0.229                          17.049   \n",
       "3189                          0.115                          16.290   \n",
       "3190                          0.106                          15.252   \n",
       "3191                          0.099                          14.774   \n",
       "\n",
       "      LandAndOceanAverageTemperatureUncertainty  \n",
       "3187                                      0.057  \n",
       "3188                                      0.058  \n",
       "3189                                      0.062  \n",
       "3190                                      0.063  \n",
       "3191                                      0.062  "
      ]
     },
     "execution_count": 123,
     "metadata": {},
     "output_type": "execute_result"
    }
   ],
   "source": [
    "df.tail()"
   ]
  },
  {
   "cell_type": "code",
   "execution_count": 124,
   "metadata": {},
   "outputs": [
    {
     "data": {
      "text/plain": [
       "(3192, 9)"
      ]
     },
     "execution_count": 124,
     "metadata": {},
     "output_type": "execute_result"
    }
   ],
   "source": [
    "original_shape = df.shape\n",
    "original_shape"
   ]
  },
  {
   "cell_type": "code",
   "execution_count": 125,
   "metadata": {},
   "outputs": [
    {
     "name": "stdout",
     "output_type": "stream",
     "text": [
      "<class 'pandas.core.frame.DataFrame'>\n",
      "RangeIndex: 3192 entries, 0 to 3191\n",
      "Data columns (total 9 columns):\n",
      "dt                                           3192 non-null object\n",
      "LandAverageTemperature                       3180 non-null float64\n",
      "LandAverageTemperatureUncertainty            3180 non-null float64\n",
      "LandMaxTemperature                           1992 non-null float64\n",
      "LandMaxTemperatureUncertainty                1992 non-null float64\n",
      "LandMinTemperature                           1992 non-null float64\n",
      "LandMinTemperatureUncertainty                1992 non-null float64\n",
      "LandAndOceanAverageTemperature               1992 non-null float64\n",
      "LandAndOceanAverageTemperatureUncertainty    1992 non-null float64\n",
      "dtypes: float64(8), object(1)\n",
      "memory usage: 224.5+ KB\n"
     ]
    }
   ],
   "source": [
    "df.info()"
   ]
  },
  {
   "cell_type": "code",
   "execution_count": 126,
   "metadata": {},
   "outputs": [
    {
     "data": {
      "text/html": [
       "<div>\n",
       "<style scoped>\n",
       "    .dataframe tbody tr th:only-of-type {\n",
       "        vertical-align: middle;\n",
       "    }\n",
       "\n",
       "    .dataframe tbody tr th {\n",
       "        vertical-align: top;\n",
       "    }\n",
       "\n",
       "    .dataframe thead th {\n",
       "        text-align: right;\n",
       "    }\n",
       "</style>\n",
       "<table border=\"1\" class=\"dataframe\">\n",
       "  <thead>\n",
       "    <tr style=\"text-align: right;\">\n",
       "      <th></th>\n",
       "      <th>count</th>\n",
       "      <th>mean</th>\n",
       "      <th>std</th>\n",
       "      <th>min</th>\n",
       "      <th>25%</th>\n",
       "      <th>50%</th>\n",
       "      <th>75%</th>\n",
       "      <th>max</th>\n",
       "    </tr>\n",
       "  </thead>\n",
       "  <tbody>\n",
       "    <tr>\n",
       "      <th>LandAverageTemperature</th>\n",
       "      <td>3180.0</td>\n",
       "      <td>8.374731</td>\n",
       "      <td>4.381310</td>\n",
       "      <td>-2.080</td>\n",
       "      <td>4.31200</td>\n",
       "      <td>8.6105</td>\n",
       "      <td>12.54825</td>\n",
       "      <td>19.021</td>\n",
       "    </tr>\n",
       "    <tr>\n",
       "      <th>LandAverageTemperatureUncertainty</th>\n",
       "      <td>3180.0</td>\n",
       "      <td>0.938468</td>\n",
       "      <td>1.096440</td>\n",
       "      <td>0.034</td>\n",
       "      <td>0.18675</td>\n",
       "      <td>0.3920</td>\n",
       "      <td>1.41925</td>\n",
       "      <td>7.880</td>\n",
       "    </tr>\n",
       "    <tr>\n",
       "      <th>LandMaxTemperature</th>\n",
       "      <td>1992.0</td>\n",
       "      <td>14.350601</td>\n",
       "      <td>4.309579</td>\n",
       "      <td>5.900</td>\n",
       "      <td>10.21200</td>\n",
       "      <td>14.7600</td>\n",
       "      <td>18.45150</td>\n",
       "      <td>21.320</td>\n",
       "    </tr>\n",
       "    <tr>\n",
       "      <th>LandMaxTemperatureUncertainty</th>\n",
       "      <td>1992.0</td>\n",
       "      <td>0.479782</td>\n",
       "      <td>0.583203</td>\n",
       "      <td>0.044</td>\n",
       "      <td>0.14200</td>\n",
       "      <td>0.2520</td>\n",
       "      <td>0.53900</td>\n",
       "      <td>4.373</td>\n",
       "    </tr>\n",
       "    <tr>\n",
       "      <th>LandMinTemperature</th>\n",
       "      <td>1992.0</td>\n",
       "      <td>2.743595</td>\n",
       "      <td>4.155835</td>\n",
       "      <td>-5.407</td>\n",
       "      <td>-1.33450</td>\n",
       "      <td>2.9495</td>\n",
       "      <td>6.77875</td>\n",
       "      <td>9.715</td>\n",
       "    </tr>\n",
       "    <tr>\n",
       "      <th>LandMinTemperatureUncertainty</th>\n",
       "      <td>1992.0</td>\n",
       "      <td>0.431849</td>\n",
       "      <td>0.445838</td>\n",
       "      <td>0.045</td>\n",
       "      <td>0.15500</td>\n",
       "      <td>0.2790</td>\n",
       "      <td>0.45825</td>\n",
       "      <td>3.498</td>\n",
       "    </tr>\n",
       "    <tr>\n",
       "      <th>LandAndOceanAverageTemperature</th>\n",
       "      <td>1992.0</td>\n",
       "      <td>15.212566</td>\n",
       "      <td>1.274093</td>\n",
       "      <td>12.475</td>\n",
       "      <td>14.04700</td>\n",
       "      <td>15.2510</td>\n",
       "      <td>16.39625</td>\n",
       "      <td>17.611</td>\n",
       "    </tr>\n",
       "    <tr>\n",
       "      <th>LandAndOceanAverageTemperatureUncertainty</th>\n",
       "      <td>1992.0</td>\n",
       "      <td>0.128532</td>\n",
       "      <td>0.073587</td>\n",
       "      <td>0.042</td>\n",
       "      <td>0.06300</td>\n",
       "      <td>0.1220</td>\n",
       "      <td>0.15100</td>\n",
       "      <td>0.457</td>\n",
       "    </tr>\n",
       "  </tbody>\n",
       "</table>\n",
       "</div>"
      ],
      "text/plain": [
       "                                            count       mean       std  \\\n",
       "LandAverageTemperature                     3180.0   8.374731  4.381310   \n",
       "LandAverageTemperatureUncertainty          3180.0   0.938468  1.096440   \n",
       "LandMaxTemperature                         1992.0  14.350601  4.309579   \n",
       "LandMaxTemperatureUncertainty              1992.0   0.479782  0.583203   \n",
       "LandMinTemperature                         1992.0   2.743595  4.155835   \n",
       "LandMinTemperatureUncertainty              1992.0   0.431849  0.445838   \n",
       "LandAndOceanAverageTemperature             1992.0  15.212566  1.274093   \n",
       "LandAndOceanAverageTemperatureUncertainty  1992.0   0.128532  0.073587   \n",
       "\n",
       "                                              min       25%      50%  \\\n",
       "LandAverageTemperature                     -2.080   4.31200   8.6105   \n",
       "LandAverageTemperatureUncertainty           0.034   0.18675   0.3920   \n",
       "LandMaxTemperature                          5.900  10.21200  14.7600   \n",
       "LandMaxTemperatureUncertainty               0.044   0.14200   0.2520   \n",
       "LandMinTemperature                         -5.407  -1.33450   2.9495   \n",
       "LandMinTemperatureUncertainty               0.045   0.15500   0.2790   \n",
       "LandAndOceanAverageTemperature             12.475  14.04700  15.2510   \n",
       "LandAndOceanAverageTemperatureUncertainty   0.042   0.06300   0.1220   \n",
       "\n",
       "                                                75%     max  \n",
       "LandAverageTemperature                     12.54825  19.021  \n",
       "LandAverageTemperatureUncertainty           1.41925   7.880  \n",
       "LandMaxTemperature                         18.45150  21.320  \n",
       "LandMaxTemperatureUncertainty               0.53900   4.373  \n",
       "LandMinTemperature                          6.77875   9.715  \n",
       "LandMinTemperatureUncertainty               0.45825   3.498  \n",
       "LandAndOceanAverageTemperature             16.39625  17.611  \n",
       "LandAndOceanAverageTemperatureUncertainty   0.15100   0.457  "
      ]
     },
     "execution_count": 126,
     "metadata": {},
     "output_type": "execute_result"
    }
   ],
   "source": [
    "df.describe().T"
   ]
  },
  {
   "cell_type": "markdown",
   "metadata": {},
   "source": [
    "There is no empty rows at the end of dataset, but there's NaNs in different temperature columns (except `LandAverageTemperature` that has only a few). The temperature `min` and `max` don't seem to have extreme values.\n",
    "  \n",
    "Columns with anomalies:  \n",
    "- `dt`: categorical."
   ]
  },
  {
   "cell_type": "markdown",
   "metadata": {},
   "source": [
    "# Columns\n",
    "Information from [Kaggle](https://www.kaggle.com/berkeleyearth/climate-change-earth-surface-temperature-data#GlobalTemperatures.csv)\n",
    "- `Date`: starts in 1750 for average land temperature and 1850 for max and min land temperatures and global ocean and land temperatures\n",
    "- `LandAverageTemperature`: global average land temperature in celsius\n",
    "- `LandAverageTemperatureUncertainty`: the 95% confidence interval around the average\n",
    "- `LandMaxTemperature`: global average maximum land temperature in celsius\n",
    "- `LandMaxTemperatureUncertainty`: the 95% confidence interval around the maximum land temperature\n",
    "- `LandMinTemperature`: global average minimum land temperature in celsius\n",
    "- `LandMinTemperatureUncertainty`: the 95% confidence interval around the minimum land temperature\n",
    "- `LandAndOceanAverageTemperature`: global average land and ocean temperature in celsius\n",
    "- `LandAndOceanAverageTemperatureUncertainty`: the 95% confidence interval around the global average land and ocean temperature"
   ]
  },
  {
   "cell_type": "code",
   "execution_count": 127,
   "metadata": {},
   "outputs": [],
   "source": [
    "df.drop_duplicates(inplace=True)"
   ]
  },
  {
   "cell_type": "markdown",
   "metadata": {},
   "source": [
    "We drop the columns with `Uncertainty` because we won't use them in this project."
   ]
  },
  {
   "cell_type": "code",
   "execution_count": 128,
   "metadata": {},
   "outputs": [],
   "source": [
    "# Before starting, we get rid of data we don't want or need for the analysis.\n",
    "# df.head(2)"
   ]
  },
  {
   "cell_type": "code",
   "execution_count": 129,
   "metadata": {},
   "outputs": [],
   "source": [
    "# Dropping columns with pattern in the name\n",
    "to_drop = [col for col in df.columns if ('Uncertainty' in col)]\n",
    "df.drop(to_drop, axis=1, inplace=True)"
   ]
  },
  {
   "cell_type": "code",
   "execution_count": 130,
   "metadata": {},
   "outputs": [],
   "source": [
    "# Drop columns we don't want\n",
    "# to_drop = ['P. Name', 'P. Name Kepler', 'P. Name KOI', 'S. Name', 'S. Name HD', 'S. Name HIP', 'S. Constellation', 'S. Type', 'P. Disc. Method', 'P. Disc. Year']\n",
    "# df.drop(to_drop, axis=1, inplace=True)"
   ]
  },
  {
   "cell_type": "markdown",
   "metadata": {},
   "source": [
    "Cleaning names and renaming columns:"
   ]
  },
  {
   "cell_type": "code",
   "execution_count": 131,
   "metadata": {},
   "outputs": [],
   "source": [
    "# Cleaning column names\n",
    "df.columns = [x.strip() for x in df.columns]\n",
    "\n",
    "# Checking if there's columns we don't want\n",
    "# df.columns"
   ]
  },
  {
   "cell_type": "code",
   "execution_count": 132,
   "metadata": {},
   "outputs": [
    {
     "data": {
      "text/plain": [
       "Index(['date', 'land_average', 'land_max', 'land_min', 'land_ocean_average'], dtype='object')"
      ]
     },
     "execution_count": 132,
     "metadata": {},
     "output_type": "execute_result"
    }
   ],
   "source": [
    "df.rename(columns={'dt': 'date', 'LandAverageTemperature':'land_average', 'LandMaxTemperature':'land_max',\n",
    "       'LandMinTemperature':'land_min', 'LandAndOceanAverageTemperature':'land_ocean_average'}, inplace=True)\n",
    "df.columns"
   ]
  },
  {
   "cell_type": "code",
   "execution_count": 133,
   "metadata": {},
   "outputs": [],
   "source": [
    "# Replacing patterns\n",
    "# df.columns = df.columns.str.replace(' ', '_').str.replace('.','').str.replace('p. ', 'p_').str.replace('s. ', 's_')\n",
    "# df.columns"
   ]
  },
  {
   "cell_type": "markdown",
   "metadata": {},
   "source": [
    "Plotting the temperature columns to see if there is any anomaly in the data. We group by year since it is very slow when plotting by day. To do that, we first need to process the `date` column from 'object' to 'datetime'."
   ]
  },
  {
   "cell_type": "code",
   "execution_count": 134,
   "metadata": {},
   "outputs": [
    {
     "data": {
      "text/plain": [
       "date                  datetime64[ns]\n",
       "land_average                 float64\n",
       "land_max                     float64\n",
       "land_min                     float64\n",
       "land_ocean_average           float64\n",
       "dtype: object"
      ]
     },
     "execution_count": 134,
     "metadata": {},
     "output_type": "execute_result"
    }
   ],
   "source": [
    "df['date'] =  pd.to_datetime(df['date'], format='%Y-%m-%d')\n",
    "df.dtypes"
   ]
  },
  {
   "cell_type": "markdown",
   "metadata": {},
   "source": [
    "Create new columns `day`, `month` and `year`."
   ]
  },
  {
   "cell_type": "code",
   "execution_count": 135,
   "metadata": {},
   "outputs": [],
   "source": [
    "df['year'] = df['date'].dt.year\n",
    "df['month'] = df['date'].dt.month\n",
    "df['day'] = df['date'].dt.day"
   ]
  },
  {
   "cell_type": "markdown",
   "metadata": {},
   "source": [
    "Group by `year` column. Decided to group with the median since it affected less by outliers."
   ]
  },
  {
   "cell_type": "code",
   "execution_count": 136,
   "metadata": {},
   "outputs": [
    {
     "data": {
      "text/html": [
       "<div>\n",
       "<style scoped>\n",
       "    .dataframe tbody tr th:only-of-type {\n",
       "        vertical-align: middle;\n",
       "    }\n",
       "\n",
       "    .dataframe tbody tr th {\n",
       "        vertical-align: top;\n",
       "    }\n",
       "\n",
       "    .dataframe thead th {\n",
       "        text-align: right;\n",
       "    }\n",
       "</style>\n",
       "<table border=\"1\" class=\"dataframe\">\n",
       "  <thead>\n",
       "    <tr style=\"text-align: right;\">\n",
       "      <th></th>\n",
       "      <th>year</th>\n",
       "      <th>land_average</th>\n",
       "      <th>land_max</th>\n",
       "      <th>land_min</th>\n",
       "      <th>land_ocean_average</th>\n",
       "      <th>month</th>\n",
       "      <th>day</th>\n",
       "    </tr>\n",
       "  </thead>\n",
       "  <tbody>\n",
       "    <tr>\n",
       "      <th>0</th>\n",
       "      <td>1750</td>\n",
       "      <td>8.4900</td>\n",
       "      <td>NaN</td>\n",
       "      <td>NaN</td>\n",
       "      <td>NaN</td>\n",
       "      <td>6.5</td>\n",
       "      <td>1.0</td>\n",
       "    </tr>\n",
       "    <tr>\n",
       "      <th>1</th>\n",
       "      <td>1751</td>\n",
       "      <td>7.6700</td>\n",
       "      <td>NaN</td>\n",
       "      <td>NaN</td>\n",
       "      <td>NaN</td>\n",
       "      <td>6.5</td>\n",
       "      <td>1.0</td>\n",
       "    </tr>\n",
       "    <tr>\n",
       "      <th>2</th>\n",
       "      <td>1752</td>\n",
       "      <td>6.5705</td>\n",
       "      <td>NaN</td>\n",
       "      <td>NaN</td>\n",
       "      <td>NaN</td>\n",
       "      <td>6.5</td>\n",
       "      <td>1.0</td>\n",
       "    </tr>\n",
       "    <tr>\n",
       "      <th>3</th>\n",
       "      <td>1753</td>\n",
       "      <td>8.6170</td>\n",
       "      <td>NaN</td>\n",
       "      <td>NaN</td>\n",
       "      <td>NaN</td>\n",
       "      <td>6.5</td>\n",
       "      <td>1.0</td>\n",
       "    </tr>\n",
       "    <tr>\n",
       "      <th>4</th>\n",
       "      <td>1754</td>\n",
       "      <td>10.3555</td>\n",
       "      <td>NaN</td>\n",
       "      <td>NaN</td>\n",
       "      <td>NaN</td>\n",
       "      <td>6.5</td>\n",
       "      <td>1.0</td>\n",
       "    </tr>\n",
       "  </tbody>\n",
       "</table>\n",
       "</div>"
      ],
      "text/plain": [
       "   year  land_average  land_max  land_min  land_ocean_average  month  day\n",
       "0  1750        8.4900       NaN       NaN                 NaN    6.5  1.0\n",
       "1  1751        7.6700       NaN       NaN                 NaN    6.5  1.0\n",
       "2  1752        6.5705       NaN       NaN                 NaN    6.5  1.0\n",
       "3  1753        8.6170       NaN       NaN                 NaN    6.5  1.0\n",
       "4  1754       10.3555       NaN       NaN                 NaN    6.5  1.0"
      ]
     },
     "execution_count": 136,
     "metadata": {},
     "output_type": "execute_result"
    }
   ],
   "source": [
    "df_year = df.groupby('year').median().reset_index()\n",
    "df_year.head()"
   ]
  },
  {
   "cell_type": "code",
   "execution_count": 137,
   "metadata": {},
   "outputs": [
    {
     "data": {
      "image/png": "[encoded data removed]",
      "text/plain": [
       "<Figure size 1440x720 with 4 Axes>"
      ]
     },
     "metadata": {
      "needs_background": "light"
     },
     "output_type": "display_data"
    }
   ],
   "source": [
    "fig, axs = plt.subplots(2, 2, figsize=(20,10))\n",
    "axs[0, 0].plot('year', 'land_average', data=df_year)\n",
    "axs[0, 0].title.set_text('land_average')\n",
    "\n",
    "axs[0, 1].plot('year', 'land_max',  data=df_year)\n",
    "axs[0, 1].title.set_text('land_max')\n",
    "\n",
    "axs[1, 0].plot('year', 'land_min',  data=df_year)\n",
    "axs[1, 0].title.set_text('land_min')\n",
    "\n",
    "axs[1, 1].plot('year', 'land_ocean_average', data=df_year)\n",
    "axs[1, 1].title.set_text('land_ocean_average')\n",
    "\n",
    "for ax in axs.flat:\n",
    "    ax.set(ylabel='temp')\n",
    "    \n",
    "plt.show()"
   ]
  },
  {
   "cell_type": "markdown",
   "metadata": {},
   "source": [
    "Keeping all the columns for now, but noticing that `land_average` is the only column that has data before 1850, but it has a very wide range during that period. After 1850, the variation decreases."
   ]
  },
  {
   "cell_type": "code",
   "execution_count": 138,
   "metadata": {},
   "outputs": [],
   "source": [
    "# fig, axs = plt.subplots(2, 1, figsize=(12,15))\n",
    "\n",
    "# axs[0].plot('Year', 'Seasonally Adjusted CO2 (ppm)',  data=df)\n",
    "# axs[0].title.set_text('Seasonally Adjusted CO2 (ppm)')\n",
    "\n",
    "# axs[1].plot('Year', 'Seasonally Adjusted CO2 Fit (ppm)', data=df)\n",
    "# axs[1].title.set_text('Seasonally Adjusted CO2 Fit (ppm)')\n",
    "\n",
    "# for ax in axs.flat:\n",
    "#     ax.set(ylabel='ppm')\n",
    "    \n",
    "# plt.show()"
   ]
  },
  {
   "cell_type": "code",
   "execution_count": 139,
   "metadata": {},
   "outputs": [
    {
     "name": "stdout",
     "output_type": "stream",
     "text": [
      "Original shape: (3192, 9)\n",
      "New shape:      (3192, 8)\n"
     ]
    }
   ],
   "source": [
    "print(f'Original shape: {original_shape}')\n",
    "print(f'New shape:      {df.shape}')"
   ]
  },
  {
   "cell_type": "markdown",
   "metadata": {},
   "source": [
    "# NaNs"
   ]
  },
  {
   "cell_type": "code",
   "execution_count": 140,
   "metadata": {},
   "outputs": [
    {
     "name": "stdout",
     "output_type": "stream",
     "text": [
      "\n",
      "Percentage of NaNs per column:\n"
     ]
    },
    {
     "data": {
      "text/html": [
       "<div>\n",
       "<style scoped>\n",
       "    .dataframe tbody tr th:only-of-type {\n",
       "        vertical-align: middle;\n",
       "    }\n",
       "\n",
       "    .dataframe tbody tr th {\n",
       "        vertical-align: top;\n",
       "    }\n",
       "\n",
       "    .dataframe thead th {\n",
       "        text-align: right;\n",
       "    }\n",
       "</style>\n",
       "<table border=\"1\" class=\"dataframe\">\n",
       "  <thead>\n",
       "    <tr style=\"text-align: right;\">\n",
       "      <th></th>\n",
       "      <th>0</th>\n",
       "    </tr>\n",
       "  </thead>\n",
       "  <tbody>\n",
       "    <tr>\n",
       "      <th>land_ocean_average</th>\n",
       "      <td>37.593985</td>\n",
       "    </tr>\n",
       "    <tr>\n",
       "      <th>land_min</th>\n",
       "      <td>37.593985</td>\n",
       "    </tr>\n",
       "    <tr>\n",
       "      <th>land_max</th>\n",
       "      <td>37.593985</td>\n",
       "    </tr>\n",
       "    <tr>\n",
       "      <th>land_average</th>\n",
       "      <td>0.375940</td>\n",
       "    </tr>\n",
       "  </tbody>\n",
       "</table>\n",
       "</div>"
      ],
      "text/plain": [
       "                            0\n",
       "land_ocean_average  37.593985\n",
       "land_min            37.593985\n",
       "land_max            37.593985\n",
       "land_average         0.375940"
      ]
     },
     "metadata": {},
     "output_type": "display_data"
    }
   ],
   "source": [
    "# Percentage of NaN values per column\n",
    "print('\\nPercentage of NaNs per column:')\n",
    "nan_values = pd.DataFrame(((df.isnull().sum()) / df.shape[0]*100).sort_values(ascending=False))\n",
    "display(nan_values[nan_values[0] > 0])"
   ]
  },
  {
   "cell_type": "code",
   "execution_count": 141,
   "metadata": {},
   "outputs": [
    {
     "name": "stdout",
     "output_type": "stream",
     "text": [
      "\n",
      "Rows with NaNs, head and tail:\n"
     ]
    },
    {
     "data": {
      "text/html": [
       "<div>\n",
       "<style scoped>\n",
       "    .dataframe tbody tr th:only-of-type {\n",
       "        vertical-align: middle;\n",
       "    }\n",
       "\n",
       "    .dataframe tbody tr th {\n",
       "        vertical-align: top;\n",
       "    }\n",
       "\n",
       "    .dataframe thead th {\n",
       "        text-align: right;\n",
       "    }\n",
       "</style>\n",
       "<table border=\"1\" class=\"dataframe\">\n",
       "  <thead>\n",
       "    <tr style=\"text-align: right;\">\n",
       "      <th></th>\n",
       "      <th>date</th>\n",
       "      <th>land_average</th>\n",
       "      <th>land_max</th>\n",
       "      <th>land_min</th>\n",
       "      <th>land_ocean_average</th>\n",
       "      <th>year</th>\n",
       "      <th>month</th>\n",
       "      <th>day</th>\n",
       "    </tr>\n",
       "  </thead>\n",
       "  <tbody>\n",
       "    <tr>\n",
       "      <th>0</th>\n",
       "      <td>1750-01-01</td>\n",
       "      <td>3.034</td>\n",
       "      <td>NaN</td>\n",
       "      <td>NaN</td>\n",
       "      <td>NaN</td>\n",
       "      <td>1750</td>\n",
       "      <td>1</td>\n",
       "      <td>1</td>\n",
       "    </tr>\n",
       "    <tr>\n",
       "      <th>1</th>\n",
       "      <td>1750-02-01</td>\n",
       "      <td>3.083</td>\n",
       "      <td>NaN</td>\n",
       "      <td>NaN</td>\n",
       "      <td>NaN</td>\n",
       "      <td>1750</td>\n",
       "      <td>2</td>\n",
       "      <td>1</td>\n",
       "    </tr>\n",
       "    <tr>\n",
       "      <th>2</th>\n",
       "      <td>1750-03-01</td>\n",
       "      <td>5.626</td>\n",
       "      <td>NaN</td>\n",
       "      <td>NaN</td>\n",
       "      <td>NaN</td>\n",
       "      <td>1750</td>\n",
       "      <td>3</td>\n",
       "      <td>1</td>\n",
       "    </tr>\n",
       "    <tr>\n",
       "      <th>3</th>\n",
       "      <td>1750-04-01</td>\n",
       "      <td>8.490</td>\n",
       "      <td>NaN</td>\n",
       "      <td>NaN</td>\n",
       "      <td>NaN</td>\n",
       "      <td>1750</td>\n",
       "      <td>4</td>\n",
       "      <td>1</td>\n",
       "    </tr>\n",
       "    <tr>\n",
       "      <th>4</th>\n",
       "      <td>1750-05-01</td>\n",
       "      <td>11.573</td>\n",
       "      <td>NaN</td>\n",
       "      <td>NaN</td>\n",
       "      <td>NaN</td>\n",
       "      <td>1750</td>\n",
       "      <td>5</td>\n",
       "      <td>1</td>\n",
       "    </tr>\n",
       "  </tbody>\n",
       "</table>\n",
       "</div>"
      ],
      "text/plain": [
       "        date  land_average  land_max  land_min  land_ocean_average  year  \\\n",
       "0 1750-01-01         3.034       NaN       NaN                 NaN  1750   \n",
       "1 1750-02-01         3.083       NaN       NaN                 NaN  1750   \n",
       "2 1750-03-01         5.626       NaN       NaN                 NaN  1750   \n",
       "3 1750-04-01         8.490       NaN       NaN                 NaN  1750   \n",
       "4 1750-05-01        11.573       NaN       NaN                 NaN  1750   \n",
       "\n",
       "   month  day  \n",
       "0      1    1  \n",
       "1      2    1  \n",
       "2      3    1  \n",
       "3      4    1  \n",
       "4      5    1  "
      ]
     },
     "metadata": {},
     "output_type": "display_data"
    },
    {
     "data": {
      "text/html": [
       "<div>\n",
       "<style scoped>\n",
       "    .dataframe tbody tr th:only-of-type {\n",
       "        vertical-align: middle;\n",
       "    }\n",
       "\n",
       "    .dataframe tbody tr th {\n",
       "        vertical-align: top;\n",
       "    }\n",
       "\n",
       "    .dataframe thead th {\n",
       "        text-align: right;\n",
       "    }\n",
       "</style>\n",
       "<table border=\"1\" class=\"dataframe\">\n",
       "  <thead>\n",
       "    <tr style=\"text-align: right;\">\n",
       "      <th></th>\n",
       "      <th>date</th>\n",
       "      <th>land_average</th>\n",
       "      <th>land_max</th>\n",
       "      <th>land_min</th>\n",
       "      <th>land_ocean_average</th>\n",
       "      <th>year</th>\n",
       "      <th>month</th>\n",
       "      <th>day</th>\n",
       "    </tr>\n",
       "  </thead>\n",
       "  <tbody>\n",
       "    <tr>\n",
       "      <th>1195</th>\n",
       "      <td>1849-08-01</td>\n",
       "      <td>13.603</td>\n",
       "      <td>NaN</td>\n",
       "      <td>NaN</td>\n",
       "      <td>NaN</td>\n",
       "      <td>1849</td>\n",
       "      <td>8</td>\n",
       "      <td>1</td>\n",
       "    </tr>\n",
       "    <tr>\n",
       "      <th>1196</th>\n",
       "      <td>1849-09-01</td>\n",
       "      <td>11.093</td>\n",
       "      <td>NaN</td>\n",
       "      <td>NaN</td>\n",
       "      <td>NaN</td>\n",
       "      <td>1849</td>\n",
       "      <td>9</td>\n",
       "      <td>1</td>\n",
       "    </tr>\n",
       "    <tr>\n",
       "      <th>1197</th>\n",
       "      <td>1849-10-01</td>\n",
       "      <td>8.890</td>\n",
       "      <td>NaN</td>\n",
       "      <td>NaN</td>\n",
       "      <td>NaN</td>\n",
       "      <td>1849</td>\n",
       "      <td>10</td>\n",
       "      <td>1</td>\n",
       "    </tr>\n",
       "    <tr>\n",
       "      <th>1198</th>\n",
       "      <td>1849-11-01</td>\n",
       "      <td>5.778</td>\n",
       "      <td>NaN</td>\n",
       "      <td>NaN</td>\n",
       "      <td>NaN</td>\n",
       "      <td>1849</td>\n",
       "      <td>11</td>\n",
       "      <td>1</td>\n",
       "    </tr>\n",
       "    <tr>\n",
       "      <th>1199</th>\n",
       "      <td>1849-12-01</td>\n",
       "      <td>1.923</td>\n",
       "      <td>NaN</td>\n",
       "      <td>NaN</td>\n",
       "      <td>NaN</td>\n",
       "      <td>1849</td>\n",
       "      <td>12</td>\n",
       "      <td>1</td>\n",
       "    </tr>\n",
       "  </tbody>\n",
       "</table>\n",
       "</div>"
      ],
      "text/plain": [
       "           date  land_average  land_max  land_min  land_ocean_average  year  \\\n",
       "1195 1849-08-01        13.603       NaN       NaN                 NaN  1849   \n",
       "1196 1849-09-01        11.093       NaN       NaN                 NaN  1849   \n",
       "1197 1849-10-01         8.890       NaN       NaN                 NaN  1849   \n",
       "1198 1849-11-01         5.778       NaN       NaN                 NaN  1849   \n",
       "1199 1849-12-01         1.923       NaN       NaN                 NaN  1849   \n",
       "\n",
       "      month  day  \n",
       "1195      8    1  \n",
       "1196      9    1  \n",
       "1197     10    1  \n",
       "1198     11    1  \n",
       "1199     12    1  "
      ]
     },
     "metadata": {},
     "output_type": "display_data"
    }
   ],
   "source": [
    "print('\\nRows with NaNs, head and tail:')\n",
    "display(df[df.isna().any(axis=1)].head())\n",
    "display(df[df.isna().any(axis=1)].tail())"
   ]
  },
  {
   "cell_type": "markdown",
   "metadata": {},
   "source": [
    "We see that the Nans are in the beginning of the dataset, previous to 1850. Since we already noticed in the earlier plots that the data during that period seems to have a large range and not be as reliable as the data that comes after 1850, we decide to delete these rows and focus on data after 1850. "
   ]
  },
  {
   "cell_type": "code",
   "execution_count": 142,
   "metadata": {},
   "outputs": [],
   "source": [
    "# Dropping columns with Nans over X %\n",
    "# df = df.loc[:, df.isnull().sum() < 0.3 * df.shape[0]]"
   ]
  },
  {
   "cell_type": "code",
   "execution_count": 143,
   "metadata": {},
   "outputs": [],
   "source": [
    "df.dropna(inplace=True)"
   ]
  },
  {
   "cell_type": "code",
   "execution_count": 144,
   "metadata": {},
   "outputs": [],
   "source": [
    "df.reset_index(drop=True, inplace=True)"
   ]
  },
  {
   "cell_type": "code",
   "execution_count": 145,
   "metadata": {
    "code_folding": [
     0
    ]
   },
   "outputs": [],
   "source": [
    "# plt.figure(figsize=(10,7))\n",
    "# sns.heatmap(df.isnull(), cbar=False, cmap='viridis');"
   ]
  },
  {
   "cell_type": "code",
   "execution_count": 146,
   "metadata": {},
   "outputs": [],
   "source": [
    "# Dropping columns where all values are Nan\n",
    "# df.dropna(axis=1, how='all', inplace=True)"
   ]
  },
  {
   "cell_type": "code",
   "execution_count": 147,
   "metadata": {},
   "outputs": [],
   "source": [
    "# df.dropna(inplace=True)"
   ]
  },
  {
   "cell_type": "code",
   "execution_count": 148,
   "metadata": {},
   "outputs": [
    {
     "name": "stdout",
     "output_type": "stream",
     "text": [
      "Original shape: (3192, 9)\n",
      "New shape:      (1992, 8)\n"
     ]
    }
   ],
   "source": [
    "print(f'Original shape: {original_shape}')\n",
    "print(f'New shape:      {df.shape}')"
   ]
  },
  {
   "cell_type": "markdown",
   "metadata": {},
   "source": [
    "We've lost quite a lot of rows but the data didn't seem reliable, and having daily data since 1850 it is good enough."
   ]
  },
  {
   "cell_type": "markdown",
   "metadata": {},
   "source": [
    "## Types"
   ]
  },
  {
   "cell_type": "code",
   "execution_count": 149,
   "metadata": {},
   "outputs": [],
   "source": [
    "# df.dtypes"
   ]
  },
  {
   "cell_type": "code",
   "execution_count": 150,
   "metadata": {},
   "outputs": [
    {
     "name": "stdout",
     "output_type": "stream",
     "text": [
      "<class 'pandas.core.frame.DataFrame'>\n",
      "RangeIndex: 1992 entries, 0 to 1991\n",
      "Data columns (total 8 columns):\n",
      "date                  1992 non-null datetime64[ns]\n",
      "land_average          1992 non-null float64\n",
      "land_max              1992 non-null float64\n",
      "land_min              1992 non-null float64\n",
      "land_ocean_average    1992 non-null float64\n",
      "year                  1992 non-null int64\n",
      "month                 1992 non-null int64\n",
      "day                   1992 non-null int64\n",
      "dtypes: datetime64[ns](1), float64(4), int64(3)\n",
      "memory usage: 124.6 KB\n"
     ]
    }
   ],
   "source": [
    "df.info()"
   ]
  },
  {
   "cell_type": "markdown",
   "metadata": {},
   "source": [
    "## Numerical data"
   ]
  },
  {
   "cell_type": "code",
   "execution_count": 152,
   "metadata": {},
   "outputs": [
    {
     "data": {
      "text/html": [
       "<div>\n",
       "<style scoped>\n",
       "    .dataframe tbody tr th:only-of-type {\n",
       "        vertical-align: middle;\n",
       "    }\n",
       "\n",
       "    .dataframe tbody tr th {\n",
       "        vertical-align: top;\n",
       "    }\n",
       "\n",
       "    .dataframe thead th {\n",
       "        text-align: right;\n",
       "    }\n",
       "</style>\n",
       "<table border=\"1\" class=\"dataframe\">\n",
       "  <thead>\n",
       "    <tr style=\"text-align: right;\">\n",
       "      <th></th>\n",
       "      <th>land_average</th>\n",
       "      <th>land_max</th>\n",
       "      <th>land_min</th>\n",
       "      <th>land_ocean_average</th>\n",
       "      <th>year</th>\n",
       "      <th>month</th>\n",
       "      <th>day</th>\n",
       "    </tr>\n",
       "  </thead>\n",
       "  <tbody>\n",
       "    <tr>\n",
       "      <th>0</th>\n",
       "      <td>0.749</td>\n",
       "      <td>8.242</td>\n",
       "      <td>-3.206</td>\n",
       "      <td>12.833</td>\n",
       "      <td>1850</td>\n",
       "      <td>1</td>\n",
       "      <td>1</td>\n",
       "    </tr>\n",
       "    <tr>\n",
       "      <th>1</th>\n",
       "      <td>3.071</td>\n",
       "      <td>9.970</td>\n",
       "      <td>-2.291</td>\n",
       "      <td>13.588</td>\n",
       "      <td>1850</td>\n",
       "      <td>2</td>\n",
       "      <td>1</td>\n",
       "    </tr>\n",
       "    <tr>\n",
       "      <th>2</th>\n",
       "      <td>4.954</td>\n",
       "      <td>10.347</td>\n",
       "      <td>-1.905</td>\n",
       "      <td>14.043</td>\n",
       "      <td>1850</td>\n",
       "      <td>3</td>\n",
       "      <td>1</td>\n",
       "    </tr>\n",
       "    <tr>\n",
       "      <th>3</th>\n",
       "      <td>7.217</td>\n",
       "      <td>12.934</td>\n",
       "      <td>1.018</td>\n",
       "      <td>14.667</td>\n",
       "      <td>1850</td>\n",
       "      <td>4</td>\n",
       "      <td>1</td>\n",
       "    </tr>\n",
       "    <tr>\n",
       "      <th>4</th>\n",
       "      <td>10.004</td>\n",
       "      <td>15.655</td>\n",
       "      <td>3.811</td>\n",
       "      <td>15.507</td>\n",
       "      <td>1850</td>\n",
       "      <td>5</td>\n",
       "      <td>1</td>\n",
       "    </tr>\n",
       "  </tbody>\n",
       "</table>\n",
       "</div>"
      ],
      "text/plain": [
       "   land_average  land_max  land_min  land_ocean_average  year  month  day\n",
       "0         0.749     8.242    -3.206              12.833  1850      1    1\n",
       "1         3.071     9.970    -2.291              13.588  1850      2    1\n",
       "2         4.954    10.347    -1.905              14.043  1850      3    1\n",
       "3         7.217    12.934     1.018              14.667  1850      4    1\n",
       "4        10.004    15.655     3.811              15.507  1850      5    1"
      ]
     },
     "execution_count": 152,
     "metadata": {},
     "output_type": "execute_result"
    }
   ],
   "source": [
    "df_numeric = df.select_dtypes(exclude=['object', 'datetime64'])\n",
    "df_numeric.head()"
   ]
  },
  {
   "cell_type": "markdown",
   "metadata": {},
   "source": [
    "### Outliers"
   ]
  },
  {
   "cell_type": "code",
   "execution_count": 153,
   "metadata": {},
   "outputs": [
    {
     "data": {
      "image/png": "[encoded data removed]",
      "text/plain": [
       "<Figure size 1440x576 with 7 Axes>"
      ]
     },
     "metadata": {
      "needs_background": "light"
     },
     "output_type": "display_data"
    }
   ],
   "source": [
    "# Visualizing the outliers with boxplots\n",
    "f = plt.figure(figsize=(20, 8))\n",
    "i=1\n",
    "import math\n",
    "for col in df_numeric.columns:\n",
    "    subplot = f.add_subplot(math.ceil(df_numeric.shape[1]/3),3,i)\n",
    "    sns.boxplot(x=df_numeric[col].dropna(),whis=10)\n",
    "    i=i+1\n",
    "plt.subplots_adjust(hspace=0.4);"
   ]
  },
  {
   "cell_type": "markdown",
   "metadata": {},
   "source": [
    "No outliers."
   ]
  },
  {
   "cell_type": "code",
   "execution_count": 31,
   "metadata": {},
   "outputs": [],
   "source": [
    "# Categorical data"
   ]
  },
  {
   "cell_type": "code",
   "execution_count": 155,
   "metadata": {},
   "outputs": [],
   "source": [
    "# df.select_dtypes(include=['object']).head()"
   ]
  },
  {
   "cell_type": "code",
   "execution_count": 33,
   "metadata": {},
   "outputs": [],
   "source": [
    "# df['p_sflux_mean_(eu)'] = df['p_sflux_mean_(eu)'].str.strip()\n",
    "# df = df.replace('', np.nan)\n",
    "# df['p_sflux_mean_(eu)'] = df['p_sflux_mean_(eu)'].astype('float64')"
   ]
  },
  {
   "cell_type": "code",
   "execution_count": 34,
   "metadata": {},
   "outputs": [],
   "source": [
    " # By column"
   ]
  },
  {
   "cell_type": "markdown",
   "metadata": {},
   "source": [
    "# Save"
   ]
  },
  {
   "cell_type": "code",
   "execution_count": 156,
   "metadata": {},
   "outputs": [],
   "source": [
    "df.to_csv('../../data/processed/temperature', index=False)"
   ]
  },
  {
   "cell_type": "code",
   "execution_count": null,
   "metadata": {},
   "outputs": [],
   "source": []
  }
 ],
 "metadata": {
  "file_extension": ".py",
  "hide_input": false,
  "kernelspec": {
   "display_name": "Python 3.7.6 64-bit",
   "language": "python",
   "name": "python37664bit3107a21d2f224fe39f89f5b0bc2a3507"
  },
  "language_info": {
   "codemirror_mode": {
    "name": "ipython",
    "version": 3
   },
   "file_extension": ".py",
   "mimetype": "text/x-python",
   "name": "python",
   "nbconvert_exporter": "python",
   "pygments_lexer": "ipython3",
   "version": "3.7.6"
  },
  "mimetype": "text/x-python",
  "name": "python",
  "npconvert_exporter": "python",
  "pygments_lexer": "ipython3",
  "toc": {
   "base_numbering": 1,
   "nav_menu": {},
   "number_sections": true,
   "sideBar": true,
   "skip_h1_title": false,
   "title_cell": "Table of Contents",
   "title_sidebar": "Contents",
   "toc_cell": true,
   "toc_position": {},
   "toc_section_display": true,
   "toc_window_display": false
  },
  "version": 3
 },
 "nbformat": 4,
 "nbformat_minor": 2
}
