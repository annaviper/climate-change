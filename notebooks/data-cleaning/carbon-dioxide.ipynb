{
 "cells": [
  {
   "cell_type": "markdown",
   "metadata": {
    "toc": true
   },
   "source": [
    "<h1>Table of Contents<span class=\"tocSkip\"></span></h1>\n",
    "<div class=\"toc\"><ul class=\"toc-item\"><li><span><a href=\"#Loading-data\" data-toc-modified-id=\"Loading-data-1\"><span class=\"toc-item-num\">1&nbsp;&nbsp;</span>Loading data</a></span></li><li><span><a href=\"#Columns\" data-toc-modified-id=\"Columns-2\"><span class=\"toc-item-num\">2&nbsp;&nbsp;</span>Columns</a></span></li><li><span><a href=\"#NaNs\" data-toc-modified-id=\"NaNs-3\"><span class=\"toc-item-num\">3&nbsp;&nbsp;</span>NaNs</a></span><ul class=\"toc-item\"><li><span><a href=\"#Renaming\" data-toc-modified-id=\"Renaming-3.1\"><span class=\"toc-item-num\">3.1&nbsp;&nbsp;</span>Renaming</a></span></li><li><span><a href=\"#Types\" data-toc-modified-id=\"Types-3.2\"><span class=\"toc-item-num\">3.2&nbsp;&nbsp;</span>Types</a></span></li><li><span><a href=\"#Numerical-data\" data-toc-modified-id=\"Numerical-data-3.3\"><span class=\"toc-item-num\">3.3&nbsp;&nbsp;</span>Numerical data</a></span><ul class=\"toc-item\"><li><span><a href=\"#Outliers\" data-toc-modified-id=\"Outliers-3.3.1\"><span class=\"toc-item-num\">3.3.1&nbsp;&nbsp;</span>Outliers</a></span></li></ul></li></ul></li><li><span><a href=\"#Save\" data-toc-modified-id=\"Save-4\"><span class=\"toc-item-num\">4&nbsp;&nbsp;</span>Save</a></span></li></ul></div>"
   ]
  },
  {
   "cell_type": "code",
   "execution_count": 1,
   "metadata": {},
   "outputs": [
    {
     "data": {
      "text/html": [
       "<style>.container { width:90% !important; }</style>"
      ],
      "text/plain": [
       "<IPython.core.display.HTML object>"
      ]
     },
     "metadata": {},
     "output_type": "display_data"
    }
   ],
   "source": [
    "# Standard libraries\n",
    "import pandas as pd\n",
    "import numpy as np\n",
    "import math\n",
    "\n",
    "# Visualisation\n",
    "import matplotlib.pyplot as plt\n",
    "import seaborn as sns\n",
    "%matplotlib inline\n",
    "\n",
    "# Notebook\n",
    "pd.set_option('display.max_rows', None)\n",
    "pd.set_option('display.max_columns', None)\n",
    "from IPython.core.display import display, HTML\n",
    "display(HTML(\"<style>.container { width:90% !important; }</style>\"))"
   ]
  },
  {
   "cell_type": "markdown",
   "metadata": {},
   "source": [
    "# Loading data"
   ]
  },
  {
   "cell_type": "code",
   "execution_count": 2,
   "metadata": {},
   "outputs": [
    {
     "data": {
      "text/html": [
       "<div>\n",
       "<style scoped>\n",
       "    .dataframe tbody tr th:only-of-type {\n",
       "        vertical-align: middle;\n",
       "    }\n",
       "\n",
       "    .dataframe tbody tr th {\n",
       "        vertical-align: top;\n",
       "    }\n",
       "\n",
       "    .dataframe thead th {\n",
       "        text-align: right;\n",
       "    }\n",
       "</style>\n",
       "<table border=\"1\" class=\"dataframe\">\n",
       "  <thead>\n",
       "    <tr style=\"text-align: right;\">\n",
       "      <th></th>\n",
       "      <th>Year</th>\n",
       "      <th>Month</th>\n",
       "      <th>Decimal Date</th>\n",
       "      <th>Carbon Dioxide (ppm)</th>\n",
       "      <th>Seasonally Adjusted CO2 (ppm)</th>\n",
       "      <th>Carbon Dioxide Fit (ppm)</th>\n",
       "      <th>Seasonally Adjusted CO2 Fit (ppm)</th>\n",
       "    </tr>\n",
       "  </thead>\n",
       "  <tbody>\n",
       "    <tr>\n",
       "      <th>0</th>\n",
       "      <td>1958</td>\n",
       "      <td>1</td>\n",
       "      <td>1958.0411</td>\n",
       "      <td>NaN</td>\n",
       "      <td>NaN</td>\n",
       "      <td>NaN</td>\n",
       "      <td>NaN</td>\n",
       "    </tr>\n",
       "    <tr>\n",
       "      <th>1</th>\n",
       "      <td>1958</td>\n",
       "      <td>2</td>\n",
       "      <td>1958.1260</td>\n",
       "      <td>NaN</td>\n",
       "      <td>NaN</td>\n",
       "      <td>NaN</td>\n",
       "      <td>NaN</td>\n",
       "    </tr>\n",
       "    <tr>\n",
       "      <th>2</th>\n",
       "      <td>1958</td>\n",
       "      <td>3</td>\n",
       "      <td>1958.2027</td>\n",
       "      <td>315.69</td>\n",
       "      <td>314.42</td>\n",
       "      <td>316.18</td>\n",
       "      <td>314.89</td>\n",
       "    </tr>\n",
       "    <tr>\n",
       "      <th>3</th>\n",
       "      <td>1958</td>\n",
       "      <td>4</td>\n",
       "      <td>1958.2877</td>\n",
       "      <td>317.45</td>\n",
       "      <td>315.15</td>\n",
       "      <td>317.30</td>\n",
       "      <td>314.98</td>\n",
       "    </tr>\n",
       "    <tr>\n",
       "      <th>4</th>\n",
       "      <td>1958</td>\n",
       "      <td>5</td>\n",
       "      <td>1958.3699</td>\n",
       "      <td>317.50</td>\n",
       "      <td>314.73</td>\n",
       "      <td>317.83</td>\n",
       "      <td>315.06</td>\n",
       "    </tr>\n",
       "  </tbody>\n",
       "</table>\n",
       "</div>"
      ],
      "text/plain": [
       "   Year  Month  Decimal Date  Carbon Dioxide (ppm)  \\\n",
       "0  1958      1     1958.0411                   NaN   \n",
       "1  1958      2     1958.1260                   NaN   \n",
       "2  1958      3     1958.2027                315.69   \n",
       "3  1958      4     1958.2877                317.45   \n",
       "4  1958      5     1958.3699                317.50   \n",
       "\n",
       "   Seasonally Adjusted CO2 (ppm)  Carbon Dioxide Fit (ppm)  \\\n",
       "0                            NaN                       NaN   \n",
       "1                            NaN                       NaN   \n",
       "2                         314.42                    316.18   \n",
       "3                         315.15                    317.30   \n",
       "4                         314.73                    317.83   \n",
       "\n",
       "   Seasonally Adjusted CO2 Fit (ppm)  \n",
       "0                                NaN  \n",
       "1                                NaN  \n",
       "2                             314.89  \n",
       "3                             314.98  \n",
       "4                             315.06  "
      ]
     },
     "execution_count": 2,
     "metadata": {},
     "output_type": "execute_result"
    }
   ],
   "source": [
    "df = pd.read_csv('../../data/raw/carbon-dioxide.csv')\n",
    "df.head()"
   ]
  },
  {
   "cell_type": "code",
   "execution_count": 3,
   "metadata": {},
   "outputs": [
    {
     "data": {
      "text/html": [
       "<div>\n",
       "<style scoped>\n",
       "    .dataframe tbody tr th:only-of-type {\n",
       "        vertical-align: middle;\n",
       "    }\n",
       "\n",
       "    .dataframe tbody tr th {\n",
       "        vertical-align: top;\n",
       "    }\n",
       "\n",
       "    .dataframe thead th {\n",
       "        text-align: right;\n",
       "    }\n",
       "</style>\n",
       "<table border=\"1\" class=\"dataframe\">\n",
       "  <thead>\n",
       "    <tr style=\"text-align: right;\">\n",
       "      <th></th>\n",
       "      <th>Year</th>\n",
       "      <th>Month</th>\n",
       "      <th>Decimal Date</th>\n",
       "      <th>Carbon Dioxide (ppm)</th>\n",
       "      <th>Seasonally Adjusted CO2 (ppm)</th>\n",
       "      <th>Carbon Dioxide Fit (ppm)</th>\n",
       "      <th>Seasonally Adjusted CO2 Fit (ppm)</th>\n",
       "    </tr>\n",
       "  </thead>\n",
       "  <tbody>\n",
       "    <tr>\n",
       "      <th>715</th>\n",
       "      <td>2017</td>\n",
       "      <td>8</td>\n",
       "      <td>2017.6219</td>\n",
       "      <td>NaN</td>\n",
       "      <td>NaN</td>\n",
       "      <td>NaN</td>\n",
       "      <td>NaN</td>\n",
       "    </tr>\n",
       "    <tr>\n",
       "      <th>716</th>\n",
       "      <td>2017</td>\n",
       "      <td>9</td>\n",
       "      <td>2017.7068</td>\n",
       "      <td>NaN</td>\n",
       "      <td>NaN</td>\n",
       "      <td>NaN</td>\n",
       "      <td>NaN</td>\n",
       "    </tr>\n",
       "    <tr>\n",
       "      <th>717</th>\n",
       "      <td>2017</td>\n",
       "      <td>10</td>\n",
       "      <td>2017.7890</td>\n",
       "      <td>NaN</td>\n",
       "      <td>NaN</td>\n",
       "      <td>NaN</td>\n",
       "      <td>NaN</td>\n",
       "    </tr>\n",
       "    <tr>\n",
       "      <th>718</th>\n",
       "      <td>2017</td>\n",
       "      <td>11</td>\n",
       "      <td>2017.8740</td>\n",
       "      <td>NaN</td>\n",
       "      <td>NaN</td>\n",
       "      <td>NaN</td>\n",
       "      <td>NaN</td>\n",
       "    </tr>\n",
       "    <tr>\n",
       "      <th>719</th>\n",
       "      <td>2017</td>\n",
       "      <td>12</td>\n",
       "      <td>2017.9562</td>\n",
       "      <td>NaN</td>\n",
       "      <td>NaN</td>\n",
       "      <td>NaN</td>\n",
       "      <td>NaN</td>\n",
       "    </tr>\n",
       "  </tbody>\n",
       "</table>\n",
       "</div>"
      ],
      "text/plain": [
       "     Year  Month  Decimal Date  Carbon Dioxide (ppm)  \\\n",
       "715  2017      8     2017.6219                   NaN   \n",
       "716  2017      9     2017.7068                   NaN   \n",
       "717  2017     10     2017.7890                   NaN   \n",
       "718  2017     11     2017.8740                   NaN   \n",
       "719  2017     12     2017.9562                   NaN   \n",
       "\n",
       "     Seasonally Adjusted CO2 (ppm)  Carbon Dioxide Fit (ppm)  \\\n",
       "715                            NaN                       NaN   \n",
       "716                            NaN                       NaN   \n",
       "717                            NaN                       NaN   \n",
       "718                            NaN                       NaN   \n",
       "719                            NaN                       NaN   \n",
       "\n",
       "     Seasonally Adjusted CO2 Fit (ppm)  \n",
       "715                                NaN  \n",
       "716                                NaN  \n",
       "717                                NaN  \n",
       "718                                NaN  \n",
       "719                                NaN  "
      ]
     },
     "execution_count": 3,
     "metadata": {},
     "output_type": "execute_result"
    }
   ],
   "source": [
    "df.tail()"
   ]
  },
  {
   "cell_type": "code",
   "execution_count": 4,
   "metadata": {},
   "outputs": [
    {
     "data": {
      "text/plain": [
       "(720, 7)"
      ]
     },
     "execution_count": 4,
     "metadata": {},
     "output_type": "execute_result"
    }
   ],
   "source": [
    "original_shape = df.shape\n",
    "original_shape"
   ]
  },
  {
   "cell_type": "code",
   "execution_count": 5,
   "metadata": {},
   "outputs": [
    {
     "name": "stdout",
     "output_type": "stream",
     "text": [
      "<class 'pandas.core.frame.DataFrame'>\n",
      "RangeIndex: 720 entries, 0 to 719\n",
      "Data columns (total 7 columns):\n",
      "Year                                 720 non-null int64\n",
      "Month                                720 non-null int64\n",
      "Decimal Date                         720 non-null float64\n",
      "Carbon Dioxide (ppm)                 703 non-null float64\n",
      "Seasonally Adjusted CO2 (ppm)        703 non-null float64\n",
      "Carbon Dioxide Fit (ppm)             707 non-null float64\n",
      "Seasonally Adjusted CO2 Fit (ppm)    707 non-null float64\n",
      "dtypes: float64(5), int64(2)\n",
      "memory usage: 39.5 KB\n"
     ]
    }
   ],
   "source": [
    "df.info()"
   ]
  },
  {
   "cell_type": "code",
   "execution_count": 6,
   "metadata": {},
   "outputs": [
    {
     "data": {
      "text/html": [
       "<div>\n",
       "<style scoped>\n",
       "    .dataframe tbody tr th:only-of-type {\n",
       "        vertical-align: middle;\n",
       "    }\n",
       "\n",
       "    .dataframe tbody tr th {\n",
       "        vertical-align: top;\n",
       "    }\n",
       "\n",
       "    .dataframe thead th {\n",
       "        text-align: right;\n",
       "    }\n",
       "</style>\n",
       "<table border=\"1\" class=\"dataframe\">\n",
       "  <thead>\n",
       "    <tr style=\"text-align: right;\">\n",
       "      <th></th>\n",
       "      <th>count</th>\n",
       "      <th>mean</th>\n",
       "      <th>std</th>\n",
       "      <th>min</th>\n",
       "      <th>25%</th>\n",
       "      <th>50%</th>\n",
       "      <th>75%</th>\n",
       "      <th>max</th>\n",
       "    </tr>\n",
       "  </thead>\n",
       "  <tbody>\n",
       "    <tr>\n",
       "      <th>Year</th>\n",
       "      <td>720.0</td>\n",
       "      <td>1987.500000</td>\n",
       "      <td>17.330141</td>\n",
       "      <td>1958.0000</td>\n",
       "      <td>1972.7500</td>\n",
       "      <td>1987.5000</td>\n",
       "      <td>2002.250000</td>\n",
       "      <td>2017.0000</td>\n",
       "    </tr>\n",
       "    <tr>\n",
       "      <th>Month</th>\n",
       "      <td>720.0</td>\n",
       "      <td>6.500000</td>\n",
       "      <td>3.454452</td>\n",
       "      <td>1.0000</td>\n",
       "      <td>3.7500</td>\n",
       "      <td>6.5000</td>\n",
       "      <td>9.250000</td>\n",
       "      <td>12.0000</td>\n",
       "    </tr>\n",
       "    <tr>\n",
       "      <th>Decimal Date</th>\n",
       "      <td>720.0</td>\n",
       "      <td>1987.997492</td>\n",
       "      <td>17.332539</td>\n",
       "      <td>1958.0411</td>\n",
       "      <td>1973.0199</td>\n",
       "      <td>1987.9986</td>\n",
       "      <td>2002.977425</td>\n",
       "      <td>2017.9562</td>\n",
       "    </tr>\n",
       "    <tr>\n",
       "      <th>Carbon Dioxide (ppm)</th>\n",
       "      <td>703.0</td>\n",
       "      <td>352.375633</td>\n",
       "      <td>26.241884</td>\n",
       "      <td>313.2100</td>\n",
       "      <td>328.5550</td>\n",
       "      <td>349.8000</td>\n",
       "      <td>373.195000</td>\n",
       "      <td>407.6500</td>\n",
       "    </tr>\n",
       "    <tr>\n",
       "      <th>Seasonally Adjusted CO2 (ppm)</th>\n",
       "      <td>703.0</td>\n",
       "      <td>352.375206</td>\n",
       "      <td>26.171620</td>\n",
       "      <td>314.4200</td>\n",
       "      <td>329.0100</td>\n",
       "      <td>349.8200</td>\n",
       "      <td>372.935000</td>\n",
       "      <td>406.0400</td>\n",
       "    </tr>\n",
       "    <tr>\n",
       "      <th>Carbon Dioxide Fit (ppm)</th>\n",
       "      <td>707.0</td>\n",
       "      <td>352.054074</td>\n",
       "      <td>26.241431</td>\n",
       "      <td>312.4500</td>\n",
       "      <td>328.3400</td>\n",
       "      <td>349.3700</td>\n",
       "      <td>372.840000</td>\n",
       "      <td>407.2800</td>\n",
       "    </tr>\n",
       "    <tr>\n",
       "      <th>Seasonally Adjusted CO2 Fit (ppm)</th>\n",
       "      <td>707.0</td>\n",
       "      <td>352.049830</td>\n",
       "      <td>26.178904</td>\n",
       "      <td>314.8900</td>\n",
       "      <td>328.4000</td>\n",
       "      <td>349.2700</td>\n",
       "      <td>372.605000</td>\n",
       "      <td>405.8300</td>\n",
       "    </tr>\n",
       "  </tbody>\n",
       "</table>\n",
       "</div>"
      ],
      "text/plain": [
       "                                   count         mean        std        min  \\\n",
       "Year                               720.0  1987.500000  17.330141  1958.0000   \n",
       "Month                              720.0     6.500000   3.454452     1.0000   \n",
       "Decimal Date                       720.0  1987.997492  17.332539  1958.0411   \n",
       "Carbon Dioxide (ppm)               703.0   352.375633  26.241884   313.2100   \n",
       "Seasonally Adjusted CO2 (ppm)      703.0   352.375206  26.171620   314.4200   \n",
       "Carbon Dioxide Fit (ppm)           707.0   352.054074  26.241431   312.4500   \n",
       "Seasonally Adjusted CO2 Fit (ppm)  707.0   352.049830  26.178904   314.8900   \n",
       "\n",
       "                                         25%        50%          75%  \\\n",
       "Year                               1972.7500  1987.5000  2002.250000   \n",
       "Month                                 3.7500     6.5000     9.250000   \n",
       "Decimal Date                       1973.0199  1987.9986  2002.977425   \n",
       "Carbon Dioxide (ppm)                328.5550   349.8000   373.195000   \n",
       "Seasonally Adjusted CO2 (ppm)       329.0100   349.8200   372.935000   \n",
       "Carbon Dioxide Fit (ppm)            328.3400   349.3700   372.840000   \n",
       "Seasonally Adjusted CO2 Fit (ppm)   328.4000   349.2700   372.605000   \n",
       "\n",
       "                                         max  \n",
       "Year                               2017.0000  \n",
       "Month                                12.0000  \n",
       "Decimal Date                       2017.9562  \n",
       "Carbon Dioxide (ppm)                407.6500  \n",
       "Seasonally Adjusted CO2 (ppm)       406.0400  \n",
       "Carbon Dioxide Fit (ppm)            407.2800  \n",
       "Seasonally Adjusted CO2 Fit (ppm)   405.8300  "
      ]
     },
     "execution_count": 6,
     "metadata": {},
     "output_type": "execute_result"
    }
   ],
   "source": [
    "df.describe().T"
   ]
  },
  {
   "cell_type": "markdown",
   "metadata": {},
   "source": [
    "There is no empty rows at the end of dataset, but there's a large amount of NaNs in different columns.\n",
    "  \n",
    "Columns with anomalies:  \n",
    "- **Year**: from 1958 to 2017, integer, all rows filled. Should it be datetime.year?\n",
    "- **Month**: the data is correct, from 1 to 12, integer, all rows filled. Should it be datetime.month?\n",
    "- **Decimal Date**: from 1958 to 2017, integer, all rows filled.\n",
    "- **(ppm) columns**: missing rows"
   ]
  },
  {
   "cell_type": "markdown",
   "metadata": {},
   "source": [
    "# Columns"
   ]
  },
  {
   "cell_type": "code",
   "execution_count": 7,
   "metadata": {},
   "outputs": [],
   "source": [
    "# Cleaning column names\n",
    "df.columns = [x.strip() for x in df.columns]"
   ]
  },
  {
   "cell_type": "markdown",
   "metadata": {},
   "source": [
    "Checking the CO2 columns to decide which one(s) we will use:"
   ]
  },
  {
   "cell_type": "code",
   "execution_count": 8,
   "metadata": {},
   "outputs": [
    {
     "data": {
      "image/png": "[encoded data removed]",
      "text/plain": [
       "<Figure size 1440x720 with 4 Axes>"
      ]
     },
     "metadata": {
      "needs_background": "light"
     },
     "output_type": "display_data"
    }
   ],
   "source": [
    "fig, axs = plt.subplots(2, 2, figsize=(20,10))\n",
    "axs[0, 0].plot('Year', 'Carbon Dioxide (ppm)', data=df)\n",
    "axs[0, 0].title.set_text('Carbon Dioxide (ppm)')\n",
    "\n",
    "axs[0, 1].plot('Year', 'Seasonally Adjusted CO2 (ppm)',  data=df)\n",
    "axs[0, 1].title.set_text('Seasonally Adjusted CO2 (ppm)')\n",
    "\n",
    "axs[1, 0].plot('Year', 'Carbon Dioxide Fit (ppm)',  data=df)\n",
    "axs[1, 0].title.set_text('Carbon Dioxide Fit (ppm)')\n",
    "\n",
    "axs[1, 1].plot('Year', 'Seasonally Adjusted CO2 Fit (ppm)', data=df)\n",
    "axs[1, 1].title.set_text('Seasonally Adjusted CO2 Fit (ppm)')\n",
    "\n",
    "for ax in axs.flat:\n",
    "    ax.set(ylabel='ppm')\n",
    "    \n",
    "plt.show()"
   ]
  },
  {
   "cell_type": "markdown",
   "metadata": {},
   "source": [
    "Closer look to the seasonally adjusted columns:"
   ]
  },
  {
   "cell_type": "code",
   "execution_count": 9,
   "metadata": {},
   "outputs": [
    {
     "data": {
      "image/png": "[encoded data removed]",
      "text/plain": [
       "<Figure size 864x1080 with 2 Axes>"
      ]
     },
     "metadata": {
      "needs_background": "light"
     },
     "output_type": "display_data"
    }
   ],
   "source": [
    "fig, axs = plt.subplots(2, 1, figsize=(12,15))\n",
    "\n",
    "axs[0].plot('Year', 'Seasonally Adjusted CO2 (ppm)',  data=df)\n",
    "axs[0].title.set_text('Seasonally Adjusted CO2 (ppm)')\n",
    "\n",
    "axs[1].plot('Year', 'Seasonally Adjusted CO2 Fit (ppm)', data=df)\n",
    "axs[1].title.set_text('Seasonally Adjusted CO2 Fit (ppm)')\n",
    "\n",
    "for ax in axs.flat:\n",
    "    ax.set(ylabel='ppm')\n",
    "    \n",
    "plt.show()"
   ]
  },
  {
   "cell_type": "markdown",
   "metadata": {},
   "source": [
    "We decide to use the `Seasonally Adjusted CO2 Fit` since it is smoother."
   ]
  },
  {
   "cell_type": "code",
   "execution_count": 10,
   "metadata": {},
   "outputs": [
    {
     "data": {
      "text/html": [
       "<div>\n",
       "<style scoped>\n",
       "    .dataframe tbody tr th:only-of-type {\n",
       "        vertical-align: middle;\n",
       "    }\n",
       "\n",
       "    .dataframe tbody tr th {\n",
       "        vertical-align: top;\n",
       "    }\n",
       "\n",
       "    .dataframe thead th {\n",
       "        text-align: right;\n",
       "    }\n",
       "</style>\n",
       "<table border=\"1\" class=\"dataframe\">\n",
       "  <thead>\n",
       "    <tr style=\"text-align: right;\">\n",
       "      <th></th>\n",
       "      <th>Year</th>\n",
       "      <th>Month</th>\n",
       "      <th>Decimal Date</th>\n",
       "      <th>Seasonally Adjusted CO2 Fit (ppm)</th>\n",
       "    </tr>\n",
       "  </thead>\n",
       "  <tbody>\n",
       "    <tr>\n",
       "      <th>0</th>\n",
       "      <td>1958</td>\n",
       "      <td>1</td>\n",
       "      <td>1958.0411</td>\n",
       "      <td>NaN</td>\n",
       "    </tr>\n",
       "    <tr>\n",
       "      <th>1</th>\n",
       "      <td>1958</td>\n",
       "      <td>2</td>\n",
       "      <td>1958.1260</td>\n",
       "      <td>NaN</td>\n",
       "    </tr>\n",
       "    <tr>\n",
       "      <th>2</th>\n",
       "      <td>1958</td>\n",
       "      <td>3</td>\n",
       "      <td>1958.2027</td>\n",
       "      <td>314.89</td>\n",
       "    </tr>\n",
       "    <tr>\n",
       "      <th>3</th>\n",
       "      <td>1958</td>\n",
       "      <td>4</td>\n",
       "      <td>1958.2877</td>\n",
       "      <td>314.98</td>\n",
       "    </tr>\n",
       "    <tr>\n",
       "      <th>4</th>\n",
       "      <td>1958</td>\n",
       "      <td>5</td>\n",
       "      <td>1958.3699</td>\n",
       "      <td>315.06</td>\n",
       "    </tr>\n",
       "  </tbody>\n",
       "</table>\n",
       "</div>"
      ],
      "text/plain": [
       "   Year  Month  Decimal Date  Seasonally Adjusted CO2 Fit (ppm)\n",
       "0  1958      1     1958.0411                                NaN\n",
       "1  1958      2     1958.1260                                NaN\n",
       "2  1958      3     1958.2027                             314.89\n",
       "3  1958      4     1958.2877                             314.98\n",
       "4  1958      5     1958.3699                             315.06"
      ]
     },
     "execution_count": 10,
     "metadata": {},
     "output_type": "execute_result"
    }
   ],
   "source": [
    "df.drop(['Carbon Dioxide (ppm)', 'Seasonally Adjusted CO2 (ppm)', 'Carbon Dioxide Fit (ppm)'], axis=1, inplace=True)\n",
    "df.head()"
   ]
  },
  {
   "cell_type": "code",
   "execution_count": 11,
   "metadata": {},
   "outputs": [
    {
     "name": "stdout",
     "output_type": "stream",
     "text": [
      "Original shape: (720, 7)\n",
      "New shape:      (720, 4)\n"
     ]
    }
   ],
   "source": [
    "print(f'Original shape: {original_shape}')\n",
    "print(f'New shape:      {df.shape}')"
   ]
  },
  {
   "cell_type": "markdown",
   "metadata": {},
   "source": [
    "# NaNs"
   ]
  },
  {
   "cell_type": "code",
   "execution_count": 12,
   "metadata": {},
   "outputs": [
    {
     "name": "stdout",
     "output_type": "stream",
     "text": [
      "\n",
      "Percentage of NaNs per column:\n"
     ]
    },
    {
     "data": {
      "text/html": [
       "<div>\n",
       "<style scoped>\n",
       "    .dataframe tbody tr th:only-of-type {\n",
       "        vertical-align: middle;\n",
       "    }\n",
       "\n",
       "    .dataframe tbody tr th {\n",
       "        vertical-align: top;\n",
       "    }\n",
       "\n",
       "    .dataframe thead th {\n",
       "        text-align: right;\n",
       "    }\n",
       "</style>\n",
       "<table border=\"1\" class=\"dataframe\">\n",
       "  <thead>\n",
       "    <tr style=\"text-align: right;\">\n",
       "      <th></th>\n",
       "      <th>0</th>\n",
       "    </tr>\n",
       "  </thead>\n",
       "  <tbody>\n",
       "    <tr>\n",
       "      <th>Seasonally Adjusted CO2 Fit (ppm)</th>\n",
       "      <td>1.805556</td>\n",
       "    </tr>\n",
       "  </tbody>\n",
       "</table>\n",
       "</div>"
      ],
      "text/plain": [
       "                                          0\n",
       "Seasonally Adjusted CO2 Fit (ppm)  1.805556"
      ]
     },
     "metadata": {},
     "output_type": "display_data"
    }
   ],
   "source": [
    "# Percentage of NaN values per column\n",
    "print('\\nPercentage of NaNs per column:')\n",
    "nan_values = pd.DataFrame(((df.isnull().sum()) / df.shape[0]*100).sort_values(ascending=False))\n",
    "display(nan_values[nan_values[0] > 0])"
   ]
  },
  {
   "cell_type": "code",
   "execution_count": 13,
   "metadata": {},
   "outputs": [
    {
     "name": "stdout",
     "output_type": "stream",
     "text": [
      "\n",
      "Rows with the small amount of NaNs:\n"
     ]
    },
    {
     "data": {
      "text/html": [
       "<div>\n",
       "<style scoped>\n",
       "    .dataframe tbody tr th:only-of-type {\n",
       "        vertical-align: middle;\n",
       "    }\n",
       "\n",
       "    .dataframe tbody tr th {\n",
       "        vertical-align: top;\n",
       "    }\n",
       "\n",
       "    .dataframe thead th {\n",
       "        text-align: right;\n",
       "    }\n",
       "</style>\n",
       "<table border=\"1\" class=\"dataframe\">\n",
       "  <thead>\n",
       "    <tr style=\"text-align: right;\">\n",
       "      <th></th>\n",
       "      <th>Year</th>\n",
       "      <th>Month</th>\n",
       "      <th>Decimal Date</th>\n",
       "      <th>Seasonally Adjusted CO2 Fit (ppm)</th>\n",
       "    </tr>\n",
       "  </thead>\n",
       "  <tbody>\n",
       "    <tr>\n",
       "      <th>0</th>\n",
       "      <td>1958</td>\n",
       "      <td>1</td>\n",
       "      <td>1958.0411</td>\n",
       "      <td>NaN</td>\n",
       "    </tr>\n",
       "    <tr>\n",
       "      <th>1</th>\n",
       "      <td>1958</td>\n",
       "      <td>2</td>\n",
       "      <td>1958.1260</td>\n",
       "      <td>NaN</td>\n",
       "    </tr>\n",
       "    <tr>\n",
       "      <th>709</th>\n",
       "      <td>2017</td>\n",
       "      <td>2</td>\n",
       "      <td>2017.1260</td>\n",
       "      <td>NaN</td>\n",
       "    </tr>\n",
       "    <tr>\n",
       "      <th>710</th>\n",
       "      <td>2017</td>\n",
       "      <td>3</td>\n",
       "      <td>2017.2027</td>\n",
       "      <td>NaN</td>\n",
       "    </tr>\n",
       "    <tr>\n",
       "      <th>711</th>\n",
       "      <td>2017</td>\n",
       "      <td>4</td>\n",
       "      <td>2017.2877</td>\n",
       "      <td>NaN</td>\n",
       "    </tr>\n",
       "    <tr>\n",
       "      <th>712</th>\n",
       "      <td>2017</td>\n",
       "      <td>5</td>\n",
       "      <td>2017.3699</td>\n",
       "      <td>NaN</td>\n",
       "    </tr>\n",
       "    <tr>\n",
       "      <th>713</th>\n",
       "      <td>2017</td>\n",
       "      <td>6</td>\n",
       "      <td>2017.4548</td>\n",
       "      <td>NaN</td>\n",
       "    </tr>\n",
       "    <tr>\n",
       "      <th>714</th>\n",
       "      <td>2017</td>\n",
       "      <td>7</td>\n",
       "      <td>2017.5370</td>\n",
       "      <td>NaN</td>\n",
       "    </tr>\n",
       "    <tr>\n",
       "      <th>715</th>\n",
       "      <td>2017</td>\n",
       "      <td>8</td>\n",
       "      <td>2017.6219</td>\n",
       "      <td>NaN</td>\n",
       "    </tr>\n",
       "    <tr>\n",
       "      <th>716</th>\n",
       "      <td>2017</td>\n",
       "      <td>9</td>\n",
       "      <td>2017.7068</td>\n",
       "      <td>NaN</td>\n",
       "    </tr>\n",
       "    <tr>\n",
       "      <th>717</th>\n",
       "      <td>2017</td>\n",
       "      <td>10</td>\n",
       "      <td>2017.7890</td>\n",
       "      <td>NaN</td>\n",
       "    </tr>\n",
       "    <tr>\n",
       "      <th>718</th>\n",
       "      <td>2017</td>\n",
       "      <td>11</td>\n",
       "      <td>2017.8740</td>\n",
       "      <td>NaN</td>\n",
       "    </tr>\n",
       "    <tr>\n",
       "      <th>719</th>\n",
       "      <td>2017</td>\n",
       "      <td>12</td>\n",
       "      <td>2017.9562</td>\n",
       "      <td>NaN</td>\n",
       "    </tr>\n",
       "  </tbody>\n",
       "</table>\n",
       "</div>"
      ],
      "text/plain": [
       "     Year  Month  Decimal Date  Seasonally Adjusted CO2 Fit (ppm)\n",
       "0    1958      1     1958.0411                                NaN\n",
       "1    1958      2     1958.1260                                NaN\n",
       "709  2017      2     2017.1260                                NaN\n",
       "710  2017      3     2017.2027                                NaN\n",
       "711  2017      4     2017.2877                                NaN\n",
       "712  2017      5     2017.3699                                NaN\n",
       "713  2017      6     2017.4548                                NaN\n",
       "714  2017      7     2017.5370                                NaN\n",
       "715  2017      8     2017.6219                                NaN\n",
       "716  2017      9     2017.7068                                NaN\n",
       "717  2017     10     2017.7890                                NaN\n",
       "718  2017     11     2017.8740                                NaN\n",
       "719  2017     12     2017.9562                                NaN"
      ]
     },
     "execution_count": 13,
     "metadata": {},
     "output_type": "execute_result"
    }
   ],
   "source": [
    "print('\\nRows with the small amount of NaNs:')\n",
    "df[df.isna().any(axis=1)]"
   ]
  },
  {
   "cell_type": "markdown",
   "metadata": {},
   "source": [
    "Since they are the very beginning and the very end, we drop these rows with NaN values: the two first months of 1958 and all of 2017 except January."
   ]
  },
  {
   "cell_type": "code",
   "execution_count": 14,
   "metadata": {},
   "outputs": [],
   "source": [
    "df.dropna(inplace=True)"
   ]
  },
  {
   "cell_type": "code",
   "execution_count": 15,
   "metadata": {},
   "outputs": [],
   "source": [
    "df.reset_index(inplace=True)"
   ]
  },
  {
   "cell_type": "code",
   "execution_count": 16,
   "metadata": {},
   "outputs": [
    {
     "name": "stdout",
     "output_type": "stream",
     "text": [
      "Original shape: (720, 7)\n",
      "New shape:      (707, 5)\n"
     ]
    }
   ],
   "source": [
    "print(f'Original shape: {original_shape}')\n",
    "print(f'New shape:      {df.shape}')"
   ]
  },
  {
   "cell_type": "markdown",
   "metadata": {},
   "source": [
    "## Renaming"
   ]
  },
  {
   "cell_type": "code",
   "execution_count": 17,
   "metadata": {},
   "outputs": [
    {
     "data": {
      "text/plain": [
       "Index(['index', 'Year', 'Month', 'Decimal Date',\n",
       "       'Seasonally Adjusted CO2 Fit (ppm)'],\n",
       "      dtype='object')"
      ]
     },
     "execution_count": 17,
     "metadata": {},
     "output_type": "execute_result"
    }
   ],
   "source": [
    "df.columns"
   ]
  },
  {
   "cell_type": "code",
   "execution_count": 18,
   "metadata": {},
   "outputs": [
    {
     "data": {
      "text/plain": [
       "Index(['index', 'Year', 'Month', 'Date', 'Seasonally Adjusted CO2 Fit (ppm)'], dtype='object')"
      ]
     },
     "execution_count": 18,
     "metadata": {},
     "output_type": "execute_result"
    }
   ],
   "source": [
    "df.rename(columns={'Decimal Date': 'Date'}, inplace=True)\n",
    "df.columns"
   ]
  },
  {
   "cell_type": "markdown",
   "metadata": {},
   "source": [
    "## Types"
   ]
  },
  {
   "cell_type": "code",
   "execution_count": 19,
   "metadata": {},
   "outputs": [
    {
     "name": "stdout",
     "output_type": "stream",
     "text": [
      "<class 'pandas.core.frame.DataFrame'>\n",
      "RangeIndex: 707 entries, 0 to 706\n",
      "Data columns (total 5 columns):\n",
      "index                                707 non-null int64\n",
      "Year                                 707 non-null int64\n",
      "Month                                707 non-null int64\n",
      "Date                                 707 non-null float64\n",
      "Seasonally Adjusted CO2 Fit (ppm)    707 non-null float64\n",
      "dtypes: float64(2), int64(3)\n",
      "memory usage: 27.7 KB\n"
     ]
    }
   ],
   "source": [
    "df.info()"
   ]
  },
  {
   "cell_type": "markdown",
   "metadata": {},
   "source": [
    "## Numerical data"
   ]
  },
  {
   "cell_type": "code",
   "execution_count": 20,
   "metadata": {},
   "outputs": [],
   "source": [
    "df_numeric = df.select_dtypes(exclude=['object'])\n",
    "# df_numeric.head()"
   ]
  },
  {
   "cell_type": "markdown",
   "metadata": {},
   "source": [
    "### Outliers"
   ]
  },
  {
   "cell_type": "code",
   "execution_count": 21,
   "metadata": {},
   "outputs": [
    {
     "data": {
      "image/png": "[encoded data removed]",
      "text/plain": [
       "<Figure size 1440x576 with 5 Axes>"
      ]
     },
     "metadata": {
      "needs_background": "light"
     },
     "output_type": "display_data"
    }
   ],
   "source": [
    "# Visualizing the outliers with boxplots\n",
    "f = plt.figure(figsize=(20, 8))\n",
    "i=1\n",
    "import math\n",
    "for col in df_numeric.columns:\n",
    "    subplot = f.add_subplot(math.ceil(df_numeric.shape[1]/3),3,i)\n",
    "    sns.boxplot(x=df_numeric[col].dropna(),whis=10)\n",
    "    i=i+1\n",
    "plt.subplots_adjust(hspace=0.4);"
   ]
  },
  {
   "cell_type": "markdown",
   "metadata": {},
   "source": [
    "As expected after what we've seen so far, there are no outliers."
   ]
  },
  {
   "cell_type": "markdown",
   "metadata": {},
   "source": [
    "# Save"
   ]
  },
  {
   "cell_type": "code",
   "execution_count": 22,
   "metadata": {},
   "outputs": [],
   "source": [
    "df.to_csv('../../data/processed/carbon-dioxide', index=False)"
   ]
  },
  {
   "cell_type": "code",
   "execution_count": null,
   "metadata": {},
   "outputs": [],
   "source": []
  }
 ],
 "metadata": {
  "file_extension": ".py",
  "hide_input": false,
  "kernelspec": {
   "display_name": "Python 3.7.6 64-bit",
   "language": "python",
   "name": "python37664bit3107a21d2f224fe39f89f5b0bc2a3507"
  },
  "language_info": {
   "codemirror_mode": {
    "name": "ipython",
    "version": 3
   },
   "file_extension": ".py",
   "mimetype": "text/x-python",
   "name": "python",
   "nbconvert_exporter": "python",
   "pygments_lexer": "ipython3",
   "version": "3.7.6"
  },
  "mimetype": "text/x-python",
  "name": "python",
  "npconvert_exporter": "python",
  "pygments_lexer": "ipython3",
  "toc": {
   "base_numbering": 1,
   "nav_menu": {},
   "number_sections": true,
   "sideBar": true,
   "skip_h1_title": false,
   "title_cell": "Table of Contents",
   "title_sidebar": "Contents",
   "toc_cell": true,
   "toc_position": {},
   "toc_section_display": true,
   "toc_window_display": false
  },
  "version": 3
 },
 "nbformat": 4,
 "nbformat_minor": 2
}
