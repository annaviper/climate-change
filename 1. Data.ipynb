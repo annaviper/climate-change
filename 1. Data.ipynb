{
 "cells": [
  {
   "cell_type": "code",
   "execution_count": 6,
   "metadata": {},
   "outputs": [],
   "source": [
    "import pandas as pd\n",
    "import numpy as np"
   ]
  },
  {
   "cell_type": "code",
   "execution_count": 7,
   "metadata": {},
   "outputs": [],
   "source": [
    "data_co2 = pd.read_csv('/Users/anna/data/2-statistics/your-own-project/Project/Datasets/co2.csv')\n",
    "data_temp = pd.read_csv('/Users/anna/data/2-statistics/your-own-project/Project/Datasets/GlobalTemperatures.csv')\n",
    "data_sea = pd.read_csv('/Users/anna/data/2-statistics/your-own-project/Project/Datasets/seaice.csv')"
   ]
  },
  {
   "cell_type": "markdown",
   "metadata": {},
   "source": [
    "## CO2"
   ]
  },
  {
   "cell_type": "code",
   "execution_count": 8,
   "metadata": {},
   "outputs": [],
   "source": [
    "data_co2 = data_co2[(data_co2.Year < 2017) & (data_co2.Year > 1958)] # Missing values\n",
    "data_co2.rename(columns={'Seasonally Adjusted CO2 Fit (ppm)':'CO2'}, inplace=True)\n",
    "data_co2.reset_index(level=0, inplace=True)\n",
    "co2 = data_co2[['Year', 'Month', 'CO2']]\n",
    "co2.head()\n",
    "\n",
    "co2.to_csv('/Users/anna/data/2-statistics/your-own-project/Project/Datasets/clean_co2.csv', index=False)"
   ]
  },
  {
   "cell_type": "markdown",
   "metadata": {},
   "source": [
    "## Temperature"
   ]
  },
  {
   "cell_type": "code",
   "execution_count": 9,
   "metadata": {},
   "outputs": [],
   "source": [
    "data_temp.rename(columns = {'dt':'Year', 'LandAndOceanAverageTemperature':'AvgTemp'}, inplace=True)\n",
    "data_temp.dropna(inplace=True)\n",
    "data_temp.reset_index(level=0, inplace=True)\n",
    "temp = data_temp[['Year', 'AvgTemp']]\n",
    "temp.head()\n",
    "\n",
    "temp.to_csv('/Users/anna/data/2-statistics/your-own-project/Project/Datasets/clean_temp.csv', index=False)"
   ]
  },
  {
   "cell_type": "markdown",
   "metadata": {},
   "source": [
    "## Sea ice"
   ]
  },
  {
   "cell_type": "code",
   "execution_count": 10,
   "metadata": {},
   "outputs": [],
   "source": [
    "data_sea.drop(['Source Data', 'Day', 'Missing'], axis=1, inplace=True) \n",
    "ice = data_sea[(data_sea.Year < 2017) & (data_sea.Year > 1978)] # Missing values\n",
    "ice.reset_index(level=0, inplace=True)\n",
    "ice = ice[['Year', 'Extent', 'hemisphere']]\n",
    "ice.head()\n",
    "\n",
    "ice.to_csv('/Users/anna/data/2-statistics/your-own-project/Project/Datasets/clean_ice.csv', index=False)"
   ]
  }
 ],
 "metadata": {
  "kernelspec": {
   "display_name": "Python 3",
   "language": "python",
   "name": "python3"
  },
  "language_info": {
   "codemirror_mode": {
    "name": "ipython",
    "version": 3
   },
   "file_extension": ".py",
   "mimetype": "text/x-python",
   "name": "python",
   "nbconvert_exporter": "python",
   "pygments_lexer": "ipython3",
   "version": "3.7.1"
  }
 },
 "nbformat": 4,
 "nbformat_minor": 2
}
