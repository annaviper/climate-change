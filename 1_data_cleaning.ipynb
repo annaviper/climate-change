{
 "cells": [
  {
   "cell_type": "markdown",
   "metadata": {},
   "source": [
    "Tasks in this notebook:  \n",
    "* Importing datasets for data cleaning.  \n",
    "* Saving the clean datasets to work with them later."
   ]
  },
  {
   "cell_type": "code",
   "execution_count": 2,
   "metadata": {},
   "outputs": [],
   "source": [
    "#Importing  libraries\n",
    "import pandas as pd\n",
    "import numpy as np\n",
    "\n",
    "import matplotlib.pyplot as plt\n",
    "import seaborn as sns\n",
    "%matplotlib inline"
   ]
  },
  {
   "cell_type": "code",
   "execution_count": 3,
   "metadata": {},
   "outputs": [],
   "source": [
    "#Importing datasets\n",
    "data_co2 = pd.read_csv('/Users/anna/data/climate-change/datasets/carbondioxide.csv')\n",
    "data_temp = pd.read_csv('/Users/anna/data/climate-change/datasets/GlobalTemperatures.csv')\n",
    "data_sea = pd.read_csv('/Users/anna/data/climate-change/datasets/seaice.csv')"
   ]
  },
  {
   "cell_type": "markdown",
   "metadata": {},
   "source": [
    "## Carbon dioxide"
   ]
  },
  {
   "cell_type": "markdown",
   "metadata": {},
   "source": [
    "First of all, we have a look at the data to see the information we have and its main characteristics."
   ]
  },
  {
   "cell_type": "code",
   "execution_count": 3,
   "metadata": {},
   "outputs": [
    {
     "data": {
      "text/html": [
       "<div>\n",
       "<style scoped>\n",
       "    .dataframe tbody tr th:only-of-type {\n",
       "        vertical-align: middle;\n",
       "    }\n",
       "\n",
       "    .dataframe tbody tr th {\n",
       "        vertical-align: top;\n",
       "    }\n",
       "\n",
       "    .dataframe thead th {\n",
       "        text-align: right;\n",
       "    }\n",
       "</style>\n",
       "<table border=\"1\" class=\"dataframe\">\n",
       "  <thead>\n",
       "    <tr style=\"text-align: right;\">\n",
       "      <th></th>\n",
       "      <th>Year</th>\n",
       "      <th>Month</th>\n",
       "      <th>Decimal Date</th>\n",
       "      <th>Carbon Dioxide (ppm)</th>\n",
       "      <th>Seasonally Adjusted CO2 (ppm)</th>\n",
       "      <th>Carbon Dioxide Fit (ppm)</th>\n",
       "      <th>Seasonally Adjusted CO2 Fit (ppm)</th>\n",
       "    </tr>\n",
       "  </thead>\n",
       "  <tbody>\n",
       "    <tr>\n",
       "      <th>0</th>\n",
       "      <td>1958</td>\n",
       "      <td>1</td>\n",
       "      <td>1958.0411</td>\n",
       "      <td>NaN</td>\n",
       "      <td>NaN</td>\n",
       "      <td>NaN</td>\n",
       "      <td>NaN</td>\n",
       "    </tr>\n",
       "    <tr>\n",
       "      <th>1</th>\n",
       "      <td>1958</td>\n",
       "      <td>2</td>\n",
       "      <td>1958.1260</td>\n",
       "      <td>NaN</td>\n",
       "      <td>NaN</td>\n",
       "      <td>NaN</td>\n",
       "      <td>NaN</td>\n",
       "    </tr>\n",
       "    <tr>\n",
       "      <th>2</th>\n",
       "      <td>1958</td>\n",
       "      <td>3</td>\n",
       "      <td>1958.2027</td>\n",
       "      <td>315.69</td>\n",
       "      <td>314.42</td>\n",
       "      <td>316.18</td>\n",
       "      <td>314.89</td>\n",
       "    </tr>\n",
       "    <tr>\n",
       "      <th>3</th>\n",
       "      <td>1958</td>\n",
       "      <td>4</td>\n",
       "      <td>1958.2877</td>\n",
       "      <td>317.45</td>\n",
       "      <td>315.15</td>\n",
       "      <td>317.30</td>\n",
       "      <td>314.98</td>\n",
       "    </tr>\n",
       "    <tr>\n",
       "      <th>4</th>\n",
       "      <td>1958</td>\n",
       "      <td>5</td>\n",
       "      <td>1958.3699</td>\n",
       "      <td>317.50</td>\n",
       "      <td>314.73</td>\n",
       "      <td>317.83</td>\n",
       "      <td>315.06</td>\n",
       "    </tr>\n",
       "  </tbody>\n",
       "</table>\n",
       "</div>"
      ],
      "text/plain": [
       "   Year  Month  Decimal Date  Carbon Dioxide (ppm)  \\\n",
       "0  1958      1     1958.0411                   NaN   \n",
       "1  1958      2     1958.1260                   NaN   \n",
       "2  1958      3     1958.2027                315.69   \n",
       "3  1958      4     1958.2877                317.45   \n",
       "4  1958      5     1958.3699                317.50   \n",
       "\n",
       "   Seasonally Adjusted CO2 (ppm)  Carbon Dioxide Fit (ppm)  \\\n",
       "0                            NaN                       NaN   \n",
       "1                            NaN                       NaN   \n",
       "2                         314.42                    316.18   \n",
       "3                         315.15                    317.30   \n",
       "4                         314.73                    317.83   \n",
       "\n",
       "   Seasonally Adjusted CO2 Fit (ppm)  \n",
       "0                                NaN  \n",
       "1                                NaN  \n",
       "2                             314.89  \n",
       "3                             314.98  \n",
       "4                             315.06  "
      ]
     },
     "execution_count": 3,
     "metadata": {},
     "output_type": "execute_result"
    }
   ],
   "source": [
    "data_co2.head()"
   ]
  },
  {
   "cell_type": "code",
   "execution_count": 4,
   "metadata": {},
   "outputs": [],
   "source": [
    "test = data_co2[['Decimal Date', 'Carbon Dioxide (ppm)',\n",
    "       'Seasonally Adjusted CO2 (ppm)', 'Carbon Dioxide Fit (ppm)',\n",
    "       'Seasonally Adjusted CO2 Fit (ppm)']]"
   ]
  },
  {
   "cell_type": "code",
   "execution_count": 5,
   "metadata": {},
   "outputs": [
    {
     "data": {
      "text/plain": [
       "<matplotlib.axes._subplots.AxesSubplot at 0x127e99eb8>"
      ]
     },
     "execution_count": 5,
     "metadata": {},
     "output_type": "execute_result"
    },
    {
     "data": {
      "image/png": "[encoded data removed]",
      "text/plain": [
       "<Figure size 432x288 with 1 Axes>"
      ]
     },
     "metadata": {
      "needs_background": "light"
     },
     "output_type": "display_data"
    }
   ],
   "source": [
    "test.plot(x='Decimal Date', grid=True)"
   ]
  },
  {
   "cell_type": "code",
   "execution_count": 6,
   "metadata": {},
   "outputs": [
    {
     "data": {
      "text/plain": [
       "<matplotlib.axes._subplots.AxesSubplot at 0x12696f2b0>"
      ]
     },
     "execution_count": 6,
     "metadata": {},
     "output_type": "execute_result"
    },
    {
     "data": {
      "image/png": "[encoded data removed]",
      "text/plain": [
       "<Figure size 864x432 with 1 Axes>"
      ]
     },
     "metadata": {
      "needs_background": "light"
     },
     "output_type": "display_data"
    }
   ],
   "source": [
    "plt.figure(figsize=(12,6))\n",
    "sns.set_style(\"whitegrid\")\n",
    "sns.lineplot(x='Decimal Date', y='Carbon Dioxide Fit (ppm)', data=data_co2)"
   ]
  },
  {
   "cell_type": "code",
   "execution_count": 7,
   "metadata": {},
   "outputs": [
    {
     "data": {
      "text/plain": [
       "Year                                   int64\n",
       "Month                                  int64\n",
       "Decimal Date                         float64\n",
       "Carbon Dioxide (ppm)                 float64\n",
       "Seasonally Adjusted CO2 (ppm)        float64\n",
       "Carbon Dioxide Fit (ppm)             float64\n",
       "Seasonally Adjusted CO2 Fit (ppm)    float64\n",
       "dtype: object"
      ]
     },
     "execution_count": 7,
     "metadata": {},
     "output_type": "execute_result"
    }
   ],
   "source": [
    "data_co2.dtypes"
   ]
  },
  {
   "cell_type": "code",
   "execution_count": 8,
   "metadata": {},
   "outputs": [
    {
     "data": {
      "text/plain": [
       "Year                                  0\n",
       "Month                                 0\n",
       "Decimal Date                          0\n",
       "Carbon Dioxide (ppm)                 17\n",
       "Seasonally Adjusted CO2 (ppm)        17\n",
       "Carbon Dioxide Fit (ppm)             13\n",
       "Seasonally Adjusted CO2 Fit (ppm)    13\n",
       "dtype: int64"
      ]
     },
     "execution_count": 8,
     "metadata": {},
     "output_type": "execute_result"
    }
   ],
   "source": [
    "data_co2.isna().sum()"
   ]
  },
  {
   "cell_type": "code",
   "execution_count": 9,
   "metadata": {},
   "outputs": [
    {
     "data": {
      "text/plain": [
       "<matplotlib.axes._subplots.AxesSubplot at 0x12a6b6080>"
      ]
     },
     "execution_count": 9,
     "metadata": {},
     "output_type": "execute_result"
    },
    {
     "data": {
      "image/png": "[encoded data removed]",
      "text/plain": [
       "<Figure size 720x504 with 1 Axes>"
      ]
     },
     "metadata": {},
     "output_type": "display_data"
    }
   ],
   "source": [
    "# Visualizing number of NaNs per columns\n",
    "plt.figure(figsize=(10,7))\n",
    "sns.heatmap(data_co2.isnull(), cbar = False, cmap='viridis')"
   ]
  },
  {
   "cell_type": "code",
   "execution_count": 10,
   "metadata": {},
   "outputs": [
    {
     "data": {
      "text/plain": [
       "(720, 7)"
      ]
     },
     "execution_count": 10,
     "metadata": {},
     "output_type": "execute_result"
    }
   ],
   "source": [
    "data_co2.shape"
   ]
  },
  {
   "cell_type": "markdown",
   "metadata": {},
   "source": [
    "The **types** of the columns of Year and Month are integer, maybe it would be better if they were datetime.  \n",
    "We have a few **null values**, and since they are not a lot (less than 20 out of 720) we will drop them. We could extrapolate but wr don't to bias in any way the data."
   ]
  },
  {
   "cell_type": "code",
   "execution_count": 11,
   "metadata": {},
   "outputs": [],
   "source": [
    "# Renaming the fifth column since it is the one that we will use more\n",
    "data_co2.rename(columns={'Seasonally Adjusted CO2 Fit (ppm)':'CO2'}, inplace=True)"
   ]
  },
  {
   "cell_type": "code",
   "execution_count": 12,
   "metadata": {},
   "outputs": [
    {
     "data": {
      "text/html": [
       "<div>\n",
       "<style scoped>\n",
       "    .dataframe tbody tr th:only-of-type {\n",
       "        vertical-align: middle;\n",
       "    }\n",
       "\n",
       "    .dataframe tbody tr th {\n",
       "        vertical-align: top;\n",
       "    }\n",
       "\n",
       "    .dataframe thead th {\n",
       "        text-align: right;\n",
       "    }\n",
       "</style>\n",
       "<table border=\"1\" class=\"dataframe\">\n",
       "  <thead>\n",
       "    <tr style=\"text-align: right;\">\n",
       "      <th></th>\n",
       "      <th>Year</th>\n",
       "      <th>Month</th>\n",
       "      <th>Decimal Date</th>\n",
       "      <th>Carbon Dioxide (ppm)</th>\n",
       "      <th>Seasonally Adjusted CO2 (ppm)</th>\n",
       "      <th>Carbon Dioxide Fit (ppm)</th>\n",
       "      <th>CO2</th>\n",
       "    </tr>\n",
       "  </thead>\n",
       "  <tbody>\n",
       "    <tr>\n",
       "      <th>0</th>\n",
       "      <td>1958</td>\n",
       "      <td>1</td>\n",
       "      <td>1958.0411</td>\n",
       "      <td>NaN</td>\n",
       "      <td>NaN</td>\n",
       "      <td>NaN</td>\n",
       "      <td>NaN</td>\n",
       "    </tr>\n",
       "    <tr>\n",
       "      <th>1</th>\n",
       "      <td>1958</td>\n",
       "      <td>2</td>\n",
       "      <td>1958.1260</td>\n",
       "      <td>NaN</td>\n",
       "      <td>NaN</td>\n",
       "      <td>NaN</td>\n",
       "      <td>NaN</td>\n",
       "    </tr>\n",
       "    <tr>\n",
       "      <th>2</th>\n",
       "      <td>1958</td>\n",
       "      <td>3</td>\n",
       "      <td>1958.2027</td>\n",
       "      <td>315.69</td>\n",
       "      <td>314.42</td>\n",
       "      <td>316.18</td>\n",
       "      <td>314.89</td>\n",
       "    </tr>\n",
       "    <tr>\n",
       "      <th>3</th>\n",
       "      <td>1958</td>\n",
       "      <td>4</td>\n",
       "      <td>1958.2877</td>\n",
       "      <td>317.45</td>\n",
       "      <td>315.15</td>\n",
       "      <td>317.30</td>\n",
       "      <td>314.98</td>\n",
       "    </tr>\n",
       "    <tr>\n",
       "      <th>4</th>\n",
       "      <td>1958</td>\n",
       "      <td>5</td>\n",
       "      <td>1958.3699</td>\n",
       "      <td>317.50</td>\n",
       "      <td>314.73</td>\n",
       "      <td>317.83</td>\n",
       "      <td>315.06</td>\n",
       "    </tr>\n",
       "  </tbody>\n",
       "</table>\n",
       "</div>"
      ],
      "text/plain": [
       "   Year  Month  Decimal Date  Carbon Dioxide (ppm)  \\\n",
       "0  1958      1     1958.0411                   NaN   \n",
       "1  1958      2     1958.1260                   NaN   \n",
       "2  1958      3     1958.2027                315.69   \n",
       "3  1958      4     1958.2877                317.45   \n",
       "4  1958      5     1958.3699                317.50   \n",
       "\n",
       "   Seasonally Adjusted CO2 (ppm)  Carbon Dioxide Fit (ppm)     CO2  \n",
       "0                            NaN                       NaN     NaN  \n",
       "1                            NaN                       NaN     NaN  \n",
       "2                         314.42                    316.18  314.89  \n",
       "3                         315.15                    317.30  314.98  \n",
       "4                         314.73                    317.83  315.06  "
      ]
     },
     "execution_count": 12,
     "metadata": {},
     "output_type": "execute_result"
    }
   ],
   "source": [
    "data_co2.head()"
   ]
  },
  {
   "cell_type": "code",
   "execution_count": 13,
   "metadata": {},
   "outputs": [
    {
     "data": {
      "text/html": [
       "<div>\n",
       "<style scoped>\n",
       "    .dataframe tbody tr th:only-of-type {\n",
       "        vertical-align: middle;\n",
       "    }\n",
       "\n",
       "    .dataframe tbody tr th {\n",
       "        vertical-align: top;\n",
       "    }\n",
       "\n",
       "    .dataframe thead th {\n",
       "        text-align: right;\n",
       "    }\n",
       "</style>\n",
       "<table border=\"1\" class=\"dataframe\">\n",
       "  <thead>\n",
       "    <tr style=\"text-align: right;\">\n",
       "      <th></th>\n",
       "      <th>Year</th>\n",
       "      <th>Month</th>\n",
       "      <th>Decimal Date</th>\n",
       "      <th>Carbon Dioxide (ppm)</th>\n",
       "      <th>Seasonally Adjusted CO2 (ppm)</th>\n",
       "      <th>Carbon Dioxide Fit (ppm)</th>\n",
       "      <th>CO2</th>\n",
       "    </tr>\n",
       "  </thead>\n",
       "  <tbody>\n",
       "    <tr>\n",
       "      <th>0</th>\n",
       "      <td>1958</td>\n",
       "      <td>3</td>\n",
       "      <td>1958.2027</td>\n",
       "      <td>315.69</td>\n",
       "      <td>314.42</td>\n",
       "      <td>316.18</td>\n",
       "      <td>314.89</td>\n",
       "    </tr>\n",
       "    <tr>\n",
       "      <th>1</th>\n",
       "      <td>1958</td>\n",
       "      <td>4</td>\n",
       "      <td>1958.2877</td>\n",
       "      <td>317.45</td>\n",
       "      <td>315.15</td>\n",
       "      <td>317.30</td>\n",
       "      <td>314.98</td>\n",
       "    </tr>\n",
       "    <tr>\n",
       "      <th>2</th>\n",
       "      <td>1958</td>\n",
       "      <td>5</td>\n",
       "      <td>1958.3699</td>\n",
       "      <td>317.50</td>\n",
       "      <td>314.73</td>\n",
       "      <td>317.83</td>\n",
       "      <td>315.06</td>\n",
       "    </tr>\n",
       "    <tr>\n",
       "      <th>3</th>\n",
       "      <td>1958</td>\n",
       "      <td>7</td>\n",
       "      <td>1958.5370</td>\n",
       "      <td>315.86</td>\n",
       "      <td>315.17</td>\n",
       "      <td>315.87</td>\n",
       "      <td>315.21</td>\n",
       "    </tr>\n",
       "    <tr>\n",
       "      <th>4</th>\n",
       "      <td>1958</td>\n",
       "      <td>8</td>\n",
       "      <td>1958.6219</td>\n",
       "      <td>314.93</td>\n",
       "      <td>316.17</td>\n",
       "      <td>314.01</td>\n",
       "      <td>315.29</td>\n",
       "    </tr>\n",
       "  </tbody>\n",
       "</table>\n",
       "</div>"
      ],
      "text/plain": [
       "   Year  Month  Decimal Date  Carbon Dioxide (ppm)  \\\n",
       "0  1958      3     1958.2027                315.69   \n",
       "1  1958      4     1958.2877                317.45   \n",
       "2  1958      5     1958.3699                317.50   \n",
       "3  1958      7     1958.5370                315.86   \n",
       "4  1958      8     1958.6219                314.93   \n",
       "\n",
       "   Seasonally Adjusted CO2 (ppm)  Carbon Dioxide Fit (ppm)     CO2  \n",
       "0                         314.42                    316.18  314.89  \n",
       "1                         315.15                    317.30  314.98  \n",
       "2                         314.73                    317.83  315.06  \n",
       "3                         315.17                    315.87  315.21  \n",
       "4                         316.17                    314.01  315.29  "
      ]
     },
     "execution_count": 13,
     "metadata": {},
     "output_type": "execute_result"
    }
   ],
   "source": [
    "#Dropping NaNs\n",
    "data_co2 = data_co2.dropna().reset_index(drop=True)\n",
    "data_co2.head()"
   ]
  },
  {
   "cell_type": "markdown",
   "metadata": {},
   "source": [
    "## Saving clean dataset"
   ]
  },
  {
   "cell_type": "code",
   "execution_count": 14,
   "metadata": {},
   "outputs": [],
   "source": [
    "data_co2.to_csv('/Users/anna/data/climate-change/datasets/clean_co2.csv', index=False)"
   ]
  },
  {
   "cell_type": "markdown",
   "metadata": {},
   "source": [
    "## Temperature"
   ]
  },
  {
   "cell_type": "markdown",
   "metadata": {},
   "source": [
    "Repeating the process of checking the information of the dataset, types of columns and NaNs."
   ]
  },
  {
   "cell_type": "code",
   "execution_count": 4,
   "metadata": {},
   "outputs": [
    {
     "data": {
      "text/html": [
       "<div>\n",
       "<style scoped>\n",
       "    .dataframe tbody tr th:only-of-type {\n",
       "        vertical-align: middle;\n",
       "    }\n",
       "\n",
       "    .dataframe tbody tr th {\n",
       "        vertical-align: top;\n",
       "    }\n",
       "\n",
       "    .dataframe thead th {\n",
       "        text-align: right;\n",
       "    }\n",
       "</style>\n",
       "<table border=\"1\" class=\"dataframe\">\n",
       "  <thead>\n",
       "    <tr style=\"text-align: right;\">\n",
       "      <th></th>\n",
       "      <th>dt</th>\n",
       "      <th>LandAverageTemperature</th>\n",
       "      <th>LandAverageTemperatureUncertainty</th>\n",
       "      <th>LandMaxTemperature</th>\n",
       "      <th>LandMaxTemperatureUncertainty</th>\n",
       "      <th>LandMinTemperature</th>\n",
       "      <th>LandMinTemperatureUncertainty</th>\n",
       "      <th>LandAndOceanAverageTemperature</th>\n",
       "      <th>LandAndOceanAverageTemperatureUncertainty</th>\n",
       "    </tr>\n",
       "  </thead>\n",
       "  <tbody>\n",
       "    <tr>\n",
       "      <th>0</th>\n",
       "      <td>1750-01-01</td>\n",
       "      <td>3.034</td>\n",
       "      <td>3.574</td>\n",
       "      <td>NaN</td>\n",
       "      <td>NaN</td>\n",
       "      <td>NaN</td>\n",
       "      <td>NaN</td>\n",
       "      <td>NaN</td>\n",
       "      <td>NaN</td>\n",
       "    </tr>\n",
       "    <tr>\n",
       "      <th>1</th>\n",
       "      <td>1750-02-01</td>\n",
       "      <td>3.083</td>\n",
       "      <td>3.702</td>\n",
       "      <td>NaN</td>\n",
       "      <td>NaN</td>\n",
       "      <td>NaN</td>\n",
       "      <td>NaN</td>\n",
       "      <td>NaN</td>\n",
       "      <td>NaN</td>\n",
       "    </tr>\n",
       "    <tr>\n",
       "      <th>2</th>\n",
       "      <td>1750-03-01</td>\n",
       "      <td>5.626</td>\n",
       "      <td>3.076</td>\n",
       "      <td>NaN</td>\n",
       "      <td>NaN</td>\n",
       "      <td>NaN</td>\n",
       "      <td>NaN</td>\n",
       "      <td>NaN</td>\n",
       "      <td>NaN</td>\n",
       "    </tr>\n",
       "    <tr>\n",
       "      <th>3</th>\n",
       "      <td>1750-04-01</td>\n",
       "      <td>8.490</td>\n",
       "      <td>2.451</td>\n",
       "      <td>NaN</td>\n",
       "      <td>NaN</td>\n",
       "      <td>NaN</td>\n",
       "      <td>NaN</td>\n",
       "      <td>NaN</td>\n",
       "      <td>NaN</td>\n",
       "    </tr>\n",
       "    <tr>\n",
       "      <th>4</th>\n",
       "      <td>1750-05-01</td>\n",
       "      <td>11.573</td>\n",
       "      <td>2.072</td>\n",
       "      <td>NaN</td>\n",
       "      <td>NaN</td>\n",
       "      <td>NaN</td>\n",
       "      <td>NaN</td>\n",
       "      <td>NaN</td>\n",
       "      <td>NaN</td>\n",
       "    </tr>\n",
       "  </tbody>\n",
       "</table>\n",
       "</div>"
      ],
      "text/plain": [
       "           dt  LandAverageTemperature  LandAverageTemperatureUncertainty  \\\n",
       "0  1750-01-01                   3.034                              3.574   \n",
       "1  1750-02-01                   3.083                              3.702   \n",
       "2  1750-03-01                   5.626                              3.076   \n",
       "3  1750-04-01                   8.490                              2.451   \n",
       "4  1750-05-01                  11.573                              2.072   \n",
       "\n",
       "   LandMaxTemperature  LandMaxTemperatureUncertainty  LandMinTemperature  \\\n",
       "0                 NaN                            NaN                 NaN   \n",
       "1                 NaN                            NaN                 NaN   \n",
       "2                 NaN                            NaN                 NaN   \n",
       "3                 NaN                            NaN                 NaN   \n",
       "4                 NaN                            NaN                 NaN   \n",
       "\n",
       "   LandMinTemperatureUncertainty  LandAndOceanAverageTemperature  \\\n",
       "0                            NaN                             NaN   \n",
       "1                            NaN                             NaN   \n",
       "2                            NaN                             NaN   \n",
       "3                            NaN                             NaN   \n",
       "4                            NaN                             NaN   \n",
       "\n",
       "   LandAndOceanAverageTemperatureUncertainty  \n",
       "0                                        NaN  \n",
       "1                                        NaN  \n",
       "2                                        NaN  \n",
       "3                                        NaN  \n",
       "4                                        NaN  "
      ]
     },
     "execution_count": 4,
     "metadata": {},
     "output_type": "execute_result"
    }
   ],
   "source": [
    "data_temp.head()"
   ]
  },
  {
   "cell_type": "code",
   "execution_count": 5,
   "metadata": {},
   "outputs": [
    {
     "data": {
      "text/plain": [
       "(3192, 9)"
      ]
     },
     "execution_count": 5,
     "metadata": {},
     "output_type": "execute_result"
    }
   ],
   "source": [
    "data_temp.shape"
   ]
  },
  {
   "cell_type": "code",
   "execution_count": 7,
   "metadata": {},
   "outputs": [
    {
     "data": {
      "text/html": [
       "<div>\n",
       "<style scoped>\n",
       "    .dataframe tbody tr th:only-of-type {\n",
       "        vertical-align: middle;\n",
       "    }\n",
       "\n",
       "    .dataframe tbody tr th {\n",
       "        vertical-align: top;\n",
       "    }\n",
       "\n",
       "    .dataframe thead th {\n",
       "        text-align: right;\n",
       "    }\n",
       "</style>\n",
       "<table border=\"1\" class=\"dataframe\">\n",
       "  <thead>\n",
       "    <tr style=\"text-align: right;\">\n",
       "      <th></th>\n",
       "      <th>Date</th>\n",
       "      <th>AvgTemp</th>\n",
       "    </tr>\n",
       "  </thead>\n",
       "  <tbody>\n",
       "    <tr>\n",
       "      <th>0</th>\n",
       "      <td>1750-01-01</td>\n",
       "      <td>NaN</td>\n",
       "    </tr>\n",
       "    <tr>\n",
       "      <th>1</th>\n",
       "      <td>1750-02-01</td>\n",
       "      <td>NaN</td>\n",
       "    </tr>\n",
       "    <tr>\n",
       "      <th>2</th>\n",
       "      <td>1750-03-01</td>\n",
       "      <td>NaN</td>\n",
       "    </tr>\n",
       "    <tr>\n",
       "      <th>3</th>\n",
       "      <td>1750-04-01</td>\n",
       "      <td>NaN</td>\n",
       "    </tr>\n",
       "    <tr>\n",
       "      <th>4</th>\n",
       "      <td>1750-05-01</td>\n",
       "      <td>NaN</td>\n",
       "    </tr>\n",
       "  </tbody>\n",
       "</table>\n",
       "</div>"
      ],
      "text/plain": [
       "         Date  AvgTemp\n",
       "0  1750-01-01      NaN\n",
       "1  1750-02-01      NaN\n",
       "2  1750-03-01      NaN\n",
       "3  1750-04-01      NaN\n",
       "4  1750-05-01      NaN"
      ]
     },
     "execution_count": 7,
     "metadata": {},
     "output_type": "execute_result"
    }
   ],
   "source": [
    "# Selecting columns we need and renaming\n",
    "temp = data_temp.rename(columns = {'dt':'Date', 'LandAndOceanAverageTemperature':'AvgTemp'})\n",
    "temp = temp[['Date', 'AvgTemp']]\n",
    "temp.head()"
   ]
  },
  {
   "cell_type": "code",
   "execution_count": 8,
   "metadata": {},
   "outputs": [],
   "source": [
    "# Fixing type of date column\n",
    "temp.Date = pd.to_datetime(temp.Date)"
   ]
  },
  {
   "cell_type": "code",
   "execution_count": 9,
   "metadata": {},
   "outputs": [
    {
     "data": {
      "text/html": [
       "<div>\n",
       "<style scoped>\n",
       "    .dataframe tbody tr th:only-of-type {\n",
       "        vertical-align: middle;\n",
       "    }\n",
       "\n",
       "    .dataframe tbody tr th {\n",
       "        vertical-align: top;\n",
       "    }\n",
       "\n",
       "    .dataframe thead th {\n",
       "        text-align: right;\n",
       "    }\n",
       "</style>\n",
       "<table border=\"1\" class=\"dataframe\">\n",
       "  <thead>\n",
       "    <tr style=\"text-align: right;\">\n",
       "      <th></th>\n",
       "      <th>Date</th>\n",
       "      <th>AvgTemp</th>\n",
       "    </tr>\n",
       "  </thead>\n",
       "  <tbody>\n",
       "    <tr>\n",
       "      <th>0</th>\n",
       "      <td>1850-01-01</td>\n",
       "      <td>12.833</td>\n",
       "    </tr>\n",
       "    <tr>\n",
       "      <th>1</th>\n",
       "      <td>1850-02-01</td>\n",
       "      <td>13.588</td>\n",
       "    </tr>\n",
       "    <tr>\n",
       "      <th>2</th>\n",
       "      <td>1850-03-01</td>\n",
       "      <td>14.043</td>\n",
       "    </tr>\n",
       "    <tr>\n",
       "      <th>3</th>\n",
       "      <td>1850-04-01</td>\n",
       "      <td>14.667</td>\n",
       "    </tr>\n",
       "    <tr>\n",
       "      <th>4</th>\n",
       "      <td>1850-05-01</td>\n",
       "      <td>15.507</td>\n",
       "    </tr>\n",
       "  </tbody>\n",
       "</table>\n",
       "</div>"
      ],
      "text/plain": [
       "        Date  AvgTemp\n",
       "0 1850-01-01   12.833\n",
       "1 1850-02-01   13.588\n",
       "2 1850-03-01   14.043\n",
       "3 1850-04-01   14.667\n",
       "4 1850-05-01   15.507"
      ]
     },
     "execution_count": 9,
     "metadata": {},
     "output_type": "execute_result"
    }
   ],
   "source": [
    "#Dropping NaNs\n",
    "temp = temp.dropna().reset_index(drop=True)\n",
    "temp.head()"
   ]
  },
  {
   "cell_type": "code",
   "execution_count": 10,
   "metadata": {},
   "outputs": [
    {
     "data": {
      "text/plain": [
       "Date       0\n",
       "AvgTemp    0\n",
       "dtype: int64"
      ]
     },
     "execution_count": 10,
     "metadata": {},
     "output_type": "execute_result"
    }
   ],
   "source": [
    "temp.isna().sum()"
   ]
  },
  {
   "cell_type": "code",
   "execution_count": 11,
   "metadata": {},
   "outputs": [
    {
     "data": {
      "text/plain": [
       "Date       datetime64[ns]\n",
       "AvgTemp           float64\n",
       "dtype: object"
      ]
     },
     "execution_count": 11,
     "metadata": {},
     "output_type": "execute_result"
    }
   ],
   "source": [
    "temp.dtypes"
   ]
  },
  {
   "cell_type": "code",
   "execution_count": 12,
   "metadata": {},
   "outputs": [],
   "source": [
    "#Saving clean dataset\n",
    "temp.to_csv('/Users/anna/data/climate-change/datasets/clean_temp.csv', index=False)"
   ]
  },
  {
   "cell_type": "markdown",
   "metadata": {},
   "source": [
    "## Sea ice"
   ]
  },
  {
   "cell_type": "markdown",
   "metadata": {},
   "source": [
    "Repeating the process of checking the information of the dataset, types of columns and NaNs."
   ]
  },
  {
   "cell_type": "code",
   "execution_count": 22,
   "metadata": {},
   "outputs": [
    {
     "data": {
      "text/html": [
       "<div>\n",
       "<style scoped>\n",
       "    .dataframe tbody tr th:only-of-type {\n",
       "        vertical-align: middle;\n",
       "    }\n",
       "\n",
       "    .dataframe tbody tr th {\n",
       "        vertical-align: top;\n",
       "    }\n",
       "\n",
       "    .dataframe thead th {\n",
       "        text-align: right;\n",
       "    }\n",
       "</style>\n",
       "<table border=\"1\" class=\"dataframe\">\n",
       "  <thead>\n",
       "    <tr style=\"text-align: right;\">\n",
       "      <th></th>\n",
       "      <th>Year</th>\n",
       "      <th>Month</th>\n",
       "      <th>Day</th>\n",
       "      <th>Extent</th>\n",
       "      <th>Missing</th>\n",
       "      <th>Source Data</th>\n",
       "      <th>hemisphere</th>\n",
       "    </tr>\n",
       "  </thead>\n",
       "  <tbody>\n",
       "    <tr>\n",
       "      <th>0</th>\n",
       "      <td>1978</td>\n",
       "      <td>10</td>\n",
       "      <td>26</td>\n",
       "      <td>10.231</td>\n",
       "      <td>0.0</td>\n",
       "      <td>['ftp://sidads.colorado.edu/pub/DATASETS/nsidc...</td>\n",
       "      <td>north</td>\n",
       "    </tr>\n",
       "    <tr>\n",
       "      <th>1</th>\n",
       "      <td>1978</td>\n",
       "      <td>10</td>\n",
       "      <td>28</td>\n",
       "      <td>10.420</td>\n",
       "      <td>0.0</td>\n",
       "      <td>['ftp://sidads.colorado.edu/pub/DATASETS/nsidc...</td>\n",
       "      <td>north</td>\n",
       "    </tr>\n",
       "    <tr>\n",
       "      <th>2</th>\n",
       "      <td>1978</td>\n",
       "      <td>10</td>\n",
       "      <td>30</td>\n",
       "      <td>10.557</td>\n",
       "      <td>0.0</td>\n",
       "      <td>['ftp://sidads.colorado.edu/pub/DATASETS/nsidc...</td>\n",
       "      <td>north</td>\n",
       "    </tr>\n",
       "    <tr>\n",
       "      <th>3</th>\n",
       "      <td>1978</td>\n",
       "      <td>11</td>\n",
       "      <td>1</td>\n",
       "      <td>10.670</td>\n",
       "      <td>0.0</td>\n",
       "      <td>['ftp://sidads.colorado.edu/pub/DATASETS/nsidc...</td>\n",
       "      <td>north</td>\n",
       "    </tr>\n",
       "    <tr>\n",
       "      <th>4</th>\n",
       "      <td>1978</td>\n",
       "      <td>11</td>\n",
       "      <td>3</td>\n",
       "      <td>10.777</td>\n",
       "      <td>0.0</td>\n",
       "      <td>['ftp://sidads.colorado.edu/pub/DATASETS/nsidc...</td>\n",
       "      <td>north</td>\n",
       "    </tr>\n",
       "  </tbody>\n",
       "</table>\n",
       "</div>"
      ],
      "text/plain": [
       "   Year  Month  Day  Extent  Missing  \\\n",
       "0  1978     10   26  10.231      0.0   \n",
       "1  1978     10   28  10.420      0.0   \n",
       "2  1978     10   30  10.557      0.0   \n",
       "3  1978     11    1  10.670      0.0   \n",
       "4  1978     11    3  10.777      0.0   \n",
       "\n",
       "                                         Source Data hemisphere  \n",
       "0  ['ftp://sidads.colorado.edu/pub/DATASETS/nsidc...      north  \n",
       "1  ['ftp://sidads.colorado.edu/pub/DATASETS/nsidc...      north  \n",
       "2  ['ftp://sidads.colorado.edu/pub/DATASETS/nsidc...      north  \n",
       "3  ['ftp://sidads.colorado.edu/pub/DATASETS/nsidc...      north  \n",
       "4  ['ftp://sidads.colorado.edu/pub/DATASETS/nsidc...      north  "
      ]
     },
     "execution_count": 22,
     "metadata": {},
     "output_type": "execute_result"
    }
   ],
   "source": [
    "data_sea.head()"
   ]
  },
  {
   "cell_type": "code",
   "execution_count": 23,
   "metadata": {},
   "outputs": [
    {
     "data": {
      "text/plain": [
       "(24908, 7)"
      ]
     },
     "execution_count": 23,
     "metadata": {},
     "output_type": "execute_result"
    }
   ],
   "source": [
    "data_sea.shape"
   ]
  },
  {
   "cell_type": "code",
   "execution_count": 24,
   "metadata": {},
   "outputs": [],
   "source": [
    "# Dropping columns we don't want\n",
    "data_sea.drop(['Source Data', 'Missing'], axis=1, inplace=True) "
   ]
  },
  {
   "cell_type": "code",
   "execution_count": 25,
   "metadata": {},
   "outputs": [
    {
     "data": {
      "text/plain": [
       "Year            int64\n",
       "Month           int64\n",
       "Day             int64\n",
       "Extent        float64\n",
       "hemisphere     object\n",
       "dtype: object"
      ]
     },
     "execution_count": 25,
     "metadata": {},
     "output_type": "execute_result"
    }
   ],
   "source": [
    "data_sea.dtypes"
   ]
  },
  {
   "cell_type": "markdown",
   "metadata": {},
   "source": [
    "Let's create a column with the proper date, merging Year, Month and Day."
   ]
  },
  {
   "cell_type": "code",
   "execution_count": 26,
   "metadata": {},
   "outputs": [
    {
     "data": {
      "text/html": [
       "<div>\n",
       "<style scoped>\n",
       "    .dataframe tbody tr th:only-of-type {\n",
       "        vertical-align: middle;\n",
       "    }\n",
       "\n",
       "    .dataframe tbody tr th {\n",
       "        vertical-align: top;\n",
       "    }\n",
       "\n",
       "    .dataframe thead th {\n",
       "        text-align: right;\n",
       "    }\n",
       "</style>\n",
       "<table border=\"1\" class=\"dataframe\">\n",
       "  <thead>\n",
       "    <tr style=\"text-align: right;\">\n",
       "      <th></th>\n",
       "      <th>Year</th>\n",
       "      <th>Month</th>\n",
       "      <th>Day</th>\n",
       "      <th>Extent</th>\n",
       "      <th>hemisphere</th>\n",
       "      <th>Date</th>\n",
       "    </tr>\n",
       "  </thead>\n",
       "  <tbody>\n",
       "    <tr>\n",
       "      <th>0</th>\n",
       "      <td>1978</td>\n",
       "      <td>10</td>\n",
       "      <td>26</td>\n",
       "      <td>10.231</td>\n",
       "      <td>north</td>\n",
       "      <td>1978-10-26</td>\n",
       "    </tr>\n",
       "    <tr>\n",
       "      <th>1</th>\n",
       "      <td>1978</td>\n",
       "      <td>10</td>\n",
       "      <td>28</td>\n",
       "      <td>10.420</td>\n",
       "      <td>north</td>\n",
       "      <td>1978-10-28</td>\n",
       "    </tr>\n",
       "    <tr>\n",
       "      <th>2</th>\n",
       "      <td>1978</td>\n",
       "      <td>10</td>\n",
       "      <td>30</td>\n",
       "      <td>10.557</td>\n",
       "      <td>north</td>\n",
       "      <td>1978-10-30</td>\n",
       "    </tr>\n",
       "    <tr>\n",
       "      <th>3</th>\n",
       "      <td>1978</td>\n",
       "      <td>11</td>\n",
       "      <td>1</td>\n",
       "      <td>10.670</td>\n",
       "      <td>north</td>\n",
       "      <td>1978-11-01</td>\n",
       "    </tr>\n",
       "    <tr>\n",
       "      <th>4</th>\n",
       "      <td>1978</td>\n",
       "      <td>11</td>\n",
       "      <td>3</td>\n",
       "      <td>10.777</td>\n",
       "      <td>north</td>\n",
       "      <td>1978-11-03</td>\n",
       "    </tr>\n",
       "  </tbody>\n",
       "</table>\n",
       "</div>"
      ],
      "text/plain": [
       "   Year  Month  Day  Extent hemisphere       Date\n",
       "0  1978     10   26  10.231      north 1978-10-26\n",
       "1  1978     10   28  10.420      north 1978-10-28\n",
       "2  1978     10   30  10.557      north 1978-10-30\n",
       "3  1978     11    1  10.670      north 1978-11-01\n",
       "4  1978     11    3  10.777      north 1978-11-03"
      ]
     },
     "execution_count": 26,
     "metadata": {},
     "output_type": "execute_result"
    }
   ],
   "source": [
    "data_sea['Date'] = pd.to_datetime(data_sea[['Year', 'Month', 'Day']])\n",
    "data_sea.head()"
   ]
  },
  {
   "cell_type": "code",
   "execution_count": 27,
   "metadata": {},
   "outputs": [
    {
     "data": {
      "text/html": [
       "<div>\n",
       "<style scoped>\n",
       "    .dataframe tbody tr th:only-of-type {\n",
       "        vertical-align: middle;\n",
       "    }\n",
       "\n",
       "    .dataframe tbody tr th {\n",
       "        vertical-align: top;\n",
       "    }\n",
       "\n",
       "    .dataframe thead th {\n",
       "        text-align: right;\n",
       "    }\n",
       "</style>\n",
       "<table border=\"1\" class=\"dataframe\">\n",
       "  <thead>\n",
       "    <tr style=\"text-align: right;\">\n",
       "      <th></th>\n",
       "      <th>Year</th>\n",
       "      <th>Month</th>\n",
       "      <th>Day</th>\n",
       "      <th>Extent</th>\n",
       "      <th>hemisphere</th>\n",
       "      <th>Date</th>\n",
       "    </tr>\n",
       "  </thead>\n",
       "  <tbody>\n",
       "    <tr>\n",
       "      <th>0</th>\n",
       "      <td>1978</td>\n",
       "      <td>10</td>\n",
       "      <td>26</td>\n",
       "      <td>10.231</td>\n",
       "      <td>north</td>\n",
       "      <td>1978-10-26</td>\n",
       "    </tr>\n",
       "    <tr>\n",
       "      <th>1</th>\n",
       "      <td>1978</td>\n",
       "      <td>10</td>\n",
       "      <td>28</td>\n",
       "      <td>10.420</td>\n",
       "      <td>north</td>\n",
       "      <td>1978-10-28</td>\n",
       "    </tr>\n",
       "    <tr>\n",
       "      <th>2</th>\n",
       "      <td>1978</td>\n",
       "      <td>10</td>\n",
       "      <td>30</td>\n",
       "      <td>10.557</td>\n",
       "      <td>north</td>\n",
       "      <td>1978-10-30</td>\n",
       "    </tr>\n",
       "    <tr>\n",
       "      <th>3</th>\n",
       "      <td>1978</td>\n",
       "      <td>11</td>\n",
       "      <td>1</td>\n",
       "      <td>10.670</td>\n",
       "      <td>north</td>\n",
       "      <td>1978-11-01</td>\n",
       "    </tr>\n",
       "    <tr>\n",
       "      <th>4</th>\n",
       "      <td>1978</td>\n",
       "      <td>11</td>\n",
       "      <td>3</td>\n",
       "      <td>10.777</td>\n",
       "      <td>north</td>\n",
       "      <td>1978-11-03</td>\n",
       "    </tr>\n",
       "  </tbody>\n",
       "</table>\n",
       "</div>"
      ],
      "text/plain": [
       "   Year  Month  Day  Extent hemisphere       Date\n",
       "0  1978     10   26  10.231      north 1978-10-26\n",
       "1  1978     10   28  10.420      north 1978-10-28\n",
       "2  1978     10   30  10.557      north 1978-10-30\n",
       "3  1978     11    1  10.670      north 1978-11-01\n",
       "4  1978     11    3  10.777      north 1978-11-03"
      ]
     },
     "execution_count": 27,
     "metadata": {},
     "output_type": "execute_result"
    }
   ],
   "source": [
    "data_sea.head()"
   ]
  },
  {
   "cell_type": "code",
   "execution_count": 28,
   "metadata": {},
   "outputs": [],
   "source": [
    "data_sea = data_sea[['Date','Extent','hemisphere']]"
   ]
  },
  {
   "cell_type": "code",
   "execution_count": 29,
   "metadata": {},
   "outputs": [
    {
     "data": {
      "text/html": [
       "<div>\n",
       "<style scoped>\n",
       "    .dataframe tbody tr th:only-of-type {\n",
       "        vertical-align: middle;\n",
       "    }\n",
       "\n",
       "    .dataframe tbody tr th {\n",
       "        vertical-align: top;\n",
       "    }\n",
       "\n",
       "    .dataframe thead th {\n",
       "        text-align: right;\n",
       "    }\n",
       "</style>\n",
       "<table border=\"1\" class=\"dataframe\">\n",
       "  <thead>\n",
       "    <tr style=\"text-align: right;\">\n",
       "      <th></th>\n",
       "      <th>Date</th>\n",
       "      <th>Extent</th>\n",
       "      <th>hemisphere</th>\n",
       "    </tr>\n",
       "  </thead>\n",
       "  <tbody>\n",
       "    <tr>\n",
       "      <th>0</th>\n",
       "      <td>1978-10-26</td>\n",
       "      <td>10.231</td>\n",
       "      <td>north</td>\n",
       "    </tr>\n",
       "    <tr>\n",
       "      <th>1</th>\n",
       "      <td>1978-10-28</td>\n",
       "      <td>10.420</td>\n",
       "      <td>north</td>\n",
       "    </tr>\n",
       "    <tr>\n",
       "      <th>2</th>\n",
       "      <td>1978-10-30</td>\n",
       "      <td>10.557</td>\n",
       "      <td>north</td>\n",
       "    </tr>\n",
       "    <tr>\n",
       "      <th>3</th>\n",
       "      <td>1978-11-01</td>\n",
       "      <td>10.670</td>\n",
       "      <td>north</td>\n",
       "    </tr>\n",
       "    <tr>\n",
       "      <th>4</th>\n",
       "      <td>1978-11-03</td>\n",
       "      <td>10.777</td>\n",
       "      <td>north</td>\n",
       "    </tr>\n",
       "  </tbody>\n",
       "</table>\n",
       "</div>"
      ],
      "text/plain": [
       "        Date  Extent hemisphere\n",
       "0 1978-10-26  10.231      north\n",
       "1 1978-10-28  10.420      north\n",
       "2 1978-10-30  10.557      north\n",
       "3 1978-11-01  10.670      north\n",
       "4 1978-11-03  10.777      north"
      ]
     },
     "execution_count": 29,
     "metadata": {},
     "output_type": "execute_result"
    }
   ],
   "source": [
    "data_sea.head()"
   ]
  },
  {
   "cell_type": "code",
   "execution_count": 30,
   "metadata": {},
   "outputs": [
    {
     "data": {
      "text/plain": [
       "Date          0\n",
       "Extent        0\n",
       "hemisphere    0\n",
       "dtype: int64"
      ]
     },
     "execution_count": 30,
     "metadata": {},
     "output_type": "execute_result"
    }
   ],
   "source": [
    "data_sea.isna().sum()"
   ]
  },
  {
   "cell_type": "markdown",
   "metadata": {},
   "source": [
    "No null values found in the dataset."
   ]
  },
  {
   "cell_type": "code",
   "execution_count": 31,
   "metadata": {},
   "outputs": [],
   "source": [
    "#Saving clean dataset\n",
    "data_sea.to_csv('/Users/anna/data/climate-change/datasets/clean_ice.csv', index=False)"
   ]
  },
  {
   "cell_type": "code",
   "execution_count": null,
   "metadata": {},
   "outputs": [],
   "source": []
  }
 ],
 "metadata": {
  "kernelspec": {
   "display_name": "Python 3",
   "language": "python",
   "name": "python3"
  },
  "language_info": {
   "codemirror_mode": {
    "name": "ipython",
    "version": 3
   },
   "file_extension": ".py",
   "mimetype": "text/x-python",
   "name": "python",
   "nbconvert_exporter": "python",
   "pygments_lexer": "ipython3",
   "version": "3.7.3"
  }
 },
 "nbformat": 4,
 "nbformat_minor": 2
}
